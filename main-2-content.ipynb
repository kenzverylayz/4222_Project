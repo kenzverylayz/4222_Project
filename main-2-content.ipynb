{
  "cells": [
    {
      "cell_type": "code",
      "execution_count": 1,
      "metadata": {
        "id": "uJOH9YHlzJwM"
      },
      "outputs": [
        {
          "name": "stderr",
          "output_type": "stream",
          "text": [
            "/var/folders/y9/5bvycrgx33315dhzcfzrvf9w0000gn/T/ipykernel_49847/3365911365.py:4: DeprecationWarning: \n",
            "Pyarrow will become a required dependency of pandas in the next major release of pandas (pandas 3.0),\n",
            "(to allow more performant data types, such as the Arrow string type, and better interoperability with other libraries)\n",
            "but was not found to be installed on your system.\n",
            "If this would cause problems for you,\n",
            "please provide us feedback at https://github.com/pandas-dev/pandas/issues/54466\n",
            "        \n",
            "  import pandas as pd\n"
          ]
        }
      ],
      "source": [
        "import os\n",
        "import json\n",
        "import gdown\n",
        "import pandas as pd\n",
        "import numpy as np\n",
        "### Plot\n",
        "import matplotlib.pyplot as plt\n",
        "import seaborn as sns\n",
        "### HTML\n",
        "from bs4 import BeautifulSoup\n",
        "import re\n",
        "### Warnings\n",
        "import warnings\n",
        "### Text Preprocessing and Natural Language Processing\n",
        "from nltk.corpus import stopwords\n",
        "from nltk.tokenize import word_tokenize\n",
        "from nltk import pos_tag\n",
        "from nltk.stem import WordNetLemmatizer\n",
        "import nltk\n",
        "import re\n",
        "import spacy\n",
        "from wordcloud import WordCloud\n"
      ]
    },
    {
      "cell_type": "code",
      "execution_count": 3,
      "metadata": {
        "id": "YslYL_R6zJwQ"
      },
      "outputs": [
        {
          "data": {
            "text/html": [
              "<div>\n",
              "<style scoped>\n",
              "    .dataframe tbody tr th:only-of-type {\n",
              "        vertical-align: middle;\n",
              "    }\n",
              "\n",
              "    .dataframe tbody tr th {\n",
              "        vertical-align: top;\n",
              "    }\n",
              "\n",
              "    .dataframe thead th {\n",
              "        text-align: right;\n",
              "    }\n",
              "</style>\n",
              "<table border=\"1\" class=\"dataframe\">\n",
              "  <thead>\n",
              "    <tr style=\"text-align: right;\">\n",
              "      <th></th>\n",
              "      <th>id</th>\n",
              "      <th>vote_average</th>\n",
              "      <th>vote_count</th>\n",
              "      <th>revenue</th>\n",
              "      <th>runtime</th>\n",
              "      <th>budget</th>\n",
              "      <th>popularity</th>\n",
              "    </tr>\n",
              "  </thead>\n",
              "  <tbody>\n",
              "    <tr>\n",
              "      <th>count</th>\n",
              "      <td>1.002267e+06</td>\n",
              "      <td>1.002267e+06</td>\n",
              "      <td>1.002267e+06</td>\n",
              "      <td>1.002267e+06</td>\n",
              "      <td>1.002267e+06</td>\n",
              "      <td>1.002267e+06</td>\n",
              "      <td>1.002267e+06</td>\n",
              "    </tr>\n",
              "    <tr>\n",
              "      <th>mean</th>\n",
              "      <td>6.625906e+05</td>\n",
              "      <td>2.101624e+00</td>\n",
              "      <td>2.139664e+01</td>\n",
              "      <td>7.421149e+05</td>\n",
              "      <td>5.059751e+01</td>\n",
              "      <td>2.924065e+05</td>\n",
              "      <td>1.349021e+00</td>\n",
              "    </tr>\n",
              "    <tr>\n",
              "      <th>std</th>\n",
              "      <td>3.549163e+05</td>\n",
              "      <td>3.110503e+00</td>\n",
              "      <td>3.391106e+02</td>\n",
              "      <td>1.803934e+07</td>\n",
              "      <td>6.229370e+01</td>\n",
              "      <td>5.134357e+06</td>\n",
              "      <td>8.071102e+00</td>\n",
              "    </tr>\n",
              "    <tr>\n",
              "      <th>min</th>\n",
              "      <td>2.000000e+00</td>\n",
              "      <td>0.000000e+00</td>\n",
              "      <td>0.000000e+00</td>\n",
              "      <td>-1.200000e+01</td>\n",
              "      <td>-2.800000e+01</td>\n",
              "      <td>0.000000e+00</td>\n",
              "      <td>0.000000e+00</td>\n",
              "    </tr>\n",
              "    <tr>\n",
              "      <th>25%</th>\n",
              "      <td>3.705740e+05</td>\n",
              "      <td>0.000000e+00</td>\n",
              "      <td>0.000000e+00</td>\n",
              "      <td>0.000000e+00</td>\n",
              "      <td>1.000000e+00</td>\n",
              "      <td>0.000000e+00</td>\n",
              "      <td>6.000000e-01</td>\n",
              "    </tr>\n",
              "    <tr>\n",
              "      <th>50%</th>\n",
              "      <td>6.643460e+05</td>\n",
              "      <td>0.000000e+00</td>\n",
              "      <td>0.000000e+00</td>\n",
              "      <td>0.000000e+00</td>\n",
              "      <td>3.000000e+01</td>\n",
              "      <td>0.000000e+00</td>\n",
              "      <td>6.000000e-01</td>\n",
              "    </tr>\n",
              "    <tr>\n",
              "      <th>75%</th>\n",
              "      <td>9.721775e+05</td>\n",
              "      <td>5.000000e+00</td>\n",
              "      <td>1.000000e+00</td>\n",
              "      <td>0.000000e+00</td>\n",
              "      <td>9.000000e+01</td>\n",
              "      <td>0.000000e+00</td>\n",
              "      <td>9.140000e-01</td>\n",
              "    </tr>\n",
              "    <tr>\n",
              "      <th>max</th>\n",
              "      <td>1.254286e+06</td>\n",
              "      <td>1.000000e+01</td>\n",
              "      <td>3.449500e+04</td>\n",
              "      <td>3.000000e+09</td>\n",
              "      <td>1.440000e+04</td>\n",
              "      <td>9.000000e+08</td>\n",
              "      <td>2.994357e+03</td>\n",
              "    </tr>\n",
              "  </tbody>\n",
              "</table>\n",
              "</div>"
            ],
            "text/plain": [
              "                 id  vote_average    vote_count       revenue       runtime  \\\n",
              "count  1.002267e+06  1.002267e+06  1.002267e+06  1.002267e+06  1.002267e+06   \n",
              "mean   6.625906e+05  2.101624e+00  2.139664e+01  7.421149e+05  5.059751e+01   \n",
              "std    3.549163e+05  3.110503e+00  3.391106e+02  1.803934e+07  6.229370e+01   \n",
              "min    2.000000e+00  0.000000e+00  0.000000e+00 -1.200000e+01 -2.800000e+01   \n",
              "25%    3.705740e+05  0.000000e+00  0.000000e+00  0.000000e+00  1.000000e+00   \n",
              "50%    6.643460e+05  0.000000e+00  0.000000e+00  0.000000e+00  3.000000e+01   \n",
              "75%    9.721775e+05  5.000000e+00  1.000000e+00  0.000000e+00  9.000000e+01   \n",
              "max    1.254286e+06  1.000000e+01  3.449500e+04  3.000000e+09  1.440000e+04   \n",
              "\n",
              "             budget    popularity  \n",
              "count  1.002267e+06  1.002267e+06  \n",
              "mean   2.924065e+05  1.349021e+00  \n",
              "std    5.134357e+06  8.071102e+00  \n",
              "min    0.000000e+00  0.000000e+00  \n",
              "25%    0.000000e+00  6.000000e-01  \n",
              "50%    0.000000e+00  6.000000e-01  \n",
              "75%    0.000000e+00  9.140000e-01  \n",
              "max    9.000000e+08  2.994357e+03  "
            ]
          },
          "execution_count": 3,
          "metadata": {},
          "output_type": "execute_result"
        }
      ],
      "source": [
        "##tmdb dataset with movies before and after 1995\n",
        "tmdb_df = pd.read_csv('TMDB_movie_dataset_v11.csv') #tmdb dataset we will be working with\n",
        "tmdb_df.describe()\n"
      ]
    },
    {
      "cell_type": "code",
      "execution_count": 4,
      "metadata": {
        "id": "V6rvbZhxHzb3"
      },
      "outputs": [
        {
          "data": {
            "text/html": [
              "<div>\n",
              "<style scoped>\n",
              "    .dataframe tbody tr th:only-of-type {\n",
              "        vertical-align: middle;\n",
              "    }\n",
              "\n",
              "    .dataframe tbody tr th {\n",
              "        vertical-align: top;\n",
              "    }\n",
              "\n",
              "    .dataframe thead th {\n",
              "        text-align: right;\n",
              "    }\n",
              "</style>\n",
              "<table border=\"1\" class=\"dataframe\">\n",
              "  <thead>\n",
              "    <tr style=\"text-align: right;\">\n",
              "      <th></th>\n",
              "      <th>id</th>\n",
              "      <th>title</th>\n",
              "      <th>vote_average</th>\n",
              "      <th>vote_count</th>\n",
              "      <th>status</th>\n",
              "      <th>release_date</th>\n",
              "      <th>revenue</th>\n",
              "      <th>runtime</th>\n",
              "      <th>adult</th>\n",
              "      <th>backdrop_path</th>\n",
              "      <th>...</th>\n",
              "      <th>original_language</th>\n",
              "      <th>original_title</th>\n",
              "      <th>overview</th>\n",
              "      <th>popularity</th>\n",
              "      <th>poster_path</th>\n",
              "      <th>tagline</th>\n",
              "      <th>genres</th>\n",
              "      <th>production_companies</th>\n",
              "      <th>production_countries</th>\n",
              "      <th>spoken_languages</th>\n",
              "    </tr>\n",
              "  </thead>\n",
              "  <tbody>\n",
              "    <tr>\n",
              "      <th>0</th>\n",
              "      <td>27205</td>\n",
              "      <td>Inception</td>\n",
              "      <td>8.364</td>\n",
              "      <td>34495</td>\n",
              "      <td>Released</td>\n",
              "      <td>2010-07-15</td>\n",
              "      <td>825532764</td>\n",
              "      <td>148</td>\n",
              "      <td>False</td>\n",
              "      <td>/8ZTVqvKDQ8emSGUEMjsS4yHAwrp.jpg</td>\n",
              "      <td>...</td>\n",
              "      <td>en</td>\n",
              "      <td>Inception</td>\n",
              "      <td>Cobb, a skilled thief who commits corporate es...</td>\n",
              "      <td>83.952</td>\n",
              "      <td>/oYuLEt3zVCKq57qu2F8dT7NIa6f.jpg</td>\n",
              "      <td>Your mind is the scene of the crime.</td>\n",
              "      <td>Action, Science Fiction, Adventure</td>\n",
              "      <td>Legendary Pictures, Syncopy, Warner Bros. Pict...</td>\n",
              "      <td>United Kingdom, United States of America</td>\n",
              "      <td>English, French, Japanese, Swahili</td>\n",
              "    </tr>\n",
              "    <tr>\n",
              "      <th>1</th>\n",
              "      <td>157336</td>\n",
              "      <td>Interstellar</td>\n",
              "      <td>8.417</td>\n",
              "      <td>32571</td>\n",
              "      <td>Released</td>\n",
              "      <td>2014-11-05</td>\n",
              "      <td>701729206</td>\n",
              "      <td>169</td>\n",
              "      <td>False</td>\n",
              "      <td>/pbrkL804c8yAv3zBZR4QPEafpAR.jpg</td>\n",
              "      <td>...</td>\n",
              "      <td>en</td>\n",
              "      <td>Interstellar</td>\n",
              "      <td>The adventures of a group of explorers who mak...</td>\n",
              "      <td>140.241</td>\n",
              "      <td>/gEU2QniE6E77NI6lCU6MxlNBvIx.jpg</td>\n",
              "      <td>Mankind was born on Earth. It was never meant ...</td>\n",
              "      <td>Adventure, Drama, Science Fiction</td>\n",
              "      <td>Legendary Pictures, Syncopy, Lynda Obst Produc...</td>\n",
              "      <td>United Kingdom, United States of America</td>\n",
              "      <td>English</td>\n",
              "    </tr>\n",
              "    <tr>\n",
              "      <th>2</th>\n",
              "      <td>155</td>\n",
              "      <td>The Dark Knight</td>\n",
              "      <td>8.512</td>\n",
              "      <td>30619</td>\n",
              "      <td>Released</td>\n",
              "      <td>2008-07-16</td>\n",
              "      <td>1004558444</td>\n",
              "      <td>152</td>\n",
              "      <td>False</td>\n",
              "      <td>/nMKdUUepR0i5zn0y1T4CsSB5chy.jpg</td>\n",
              "      <td>...</td>\n",
              "      <td>en</td>\n",
              "      <td>The Dark Knight</td>\n",
              "      <td>Batman raises the stakes in his war on crime. ...</td>\n",
              "      <td>130.643</td>\n",
              "      <td>/qJ2tW6WMUDux911r6m7haRef0WH.jpg</td>\n",
              "      <td>Welcome to a world without rules.</td>\n",
              "      <td>Drama, Action, Crime, Thriller</td>\n",
              "      <td>DC Comics, Legendary Pictures, Syncopy, Isobel...</td>\n",
              "      <td>United Kingdom, United States of America</td>\n",
              "      <td>English, Mandarin</td>\n",
              "    </tr>\n",
              "    <tr>\n",
              "      <th>3</th>\n",
              "      <td>19995</td>\n",
              "      <td>Avatar</td>\n",
              "      <td>7.573</td>\n",
              "      <td>29815</td>\n",
              "      <td>Released</td>\n",
              "      <td>2009-12-15</td>\n",
              "      <td>2923706026</td>\n",
              "      <td>162</td>\n",
              "      <td>False</td>\n",
              "      <td>/vL5LR6WdxWPjLPFRLe133jXWsh5.jpg</td>\n",
              "      <td>...</td>\n",
              "      <td>en</td>\n",
              "      <td>Avatar</td>\n",
              "      <td>In the 22nd century, a paraplegic Marine is di...</td>\n",
              "      <td>79.932</td>\n",
              "      <td>/kyeqWdyUXW608qlYkRqosgbbJyK.jpg</td>\n",
              "      <td>Enter the world of Pandora.</td>\n",
              "      <td>Action, Adventure, Fantasy, Science Fiction</td>\n",
              "      <td>Dune Entertainment, Lightstorm Entertainment, ...</td>\n",
              "      <td>United States of America, United Kingdom</td>\n",
              "      <td>English, Spanish</td>\n",
              "    </tr>\n",
              "    <tr>\n",
              "      <th>4</th>\n",
              "      <td>24428</td>\n",
              "      <td>The Avengers</td>\n",
              "      <td>7.710</td>\n",
              "      <td>29166</td>\n",
              "      <td>Released</td>\n",
              "      <td>2012-04-25</td>\n",
              "      <td>1518815515</td>\n",
              "      <td>143</td>\n",
              "      <td>False</td>\n",
              "      <td>/9BBTo63ANSmhC4e6r62OJFuK2GL.jpg</td>\n",
              "      <td>...</td>\n",
              "      <td>en</td>\n",
              "      <td>The Avengers</td>\n",
              "      <td>When an unexpected enemy emerges and threatens...</td>\n",
              "      <td>98.082</td>\n",
              "      <td>/RYMX2wcKCBAr24UyPD7xwmjaTn.jpg</td>\n",
              "      <td>Some assembly required.</td>\n",
              "      <td>Science Fiction, Action, Adventure</td>\n",
              "      <td>Marvel Studios</td>\n",
              "      <td>United States of America</td>\n",
              "      <td>English, Hindi, Russian</td>\n",
              "    </tr>\n",
              "  </tbody>\n",
              "</table>\n",
              "<p>5 rows × 23 columns</p>\n",
              "</div>"
            ],
            "text/plain": [
              "       id            title  vote_average  vote_count    status release_date  \\\n",
              "0   27205        Inception         8.364       34495  Released   2010-07-15   \n",
              "1  157336     Interstellar         8.417       32571  Released   2014-11-05   \n",
              "2     155  The Dark Knight         8.512       30619  Released   2008-07-16   \n",
              "3   19995           Avatar         7.573       29815  Released   2009-12-15   \n",
              "4   24428     The Avengers         7.710       29166  Released   2012-04-25   \n",
              "\n",
              "      revenue  runtime  adult                     backdrop_path  ...  \\\n",
              "0   825532764      148  False  /8ZTVqvKDQ8emSGUEMjsS4yHAwrp.jpg  ...   \n",
              "1   701729206      169  False  /pbrkL804c8yAv3zBZR4QPEafpAR.jpg  ...   \n",
              "2  1004558444      152  False  /nMKdUUepR0i5zn0y1T4CsSB5chy.jpg  ...   \n",
              "3  2923706026      162  False  /vL5LR6WdxWPjLPFRLe133jXWsh5.jpg  ...   \n",
              "4  1518815515      143  False  /9BBTo63ANSmhC4e6r62OJFuK2GL.jpg  ...   \n",
              "\n",
              "   original_language   original_title  \\\n",
              "0                 en        Inception   \n",
              "1                 en     Interstellar   \n",
              "2                 en  The Dark Knight   \n",
              "3                 en           Avatar   \n",
              "4                 en     The Avengers   \n",
              "\n",
              "                                            overview popularity  \\\n",
              "0  Cobb, a skilled thief who commits corporate es...     83.952   \n",
              "1  The adventures of a group of explorers who mak...    140.241   \n",
              "2  Batman raises the stakes in his war on crime. ...    130.643   \n",
              "3  In the 22nd century, a paraplegic Marine is di...     79.932   \n",
              "4  When an unexpected enemy emerges and threatens...     98.082   \n",
              "\n",
              "                        poster_path  \\\n",
              "0  /oYuLEt3zVCKq57qu2F8dT7NIa6f.jpg   \n",
              "1  /gEU2QniE6E77NI6lCU6MxlNBvIx.jpg   \n",
              "2  /qJ2tW6WMUDux911r6m7haRef0WH.jpg   \n",
              "3  /kyeqWdyUXW608qlYkRqosgbbJyK.jpg   \n",
              "4   /RYMX2wcKCBAr24UyPD7xwmjaTn.jpg   \n",
              "\n",
              "                                             tagline  \\\n",
              "0               Your mind is the scene of the crime.   \n",
              "1  Mankind was born on Earth. It was never meant ...   \n",
              "2                  Welcome to a world without rules.   \n",
              "3                        Enter the world of Pandora.   \n",
              "4                            Some assembly required.   \n",
              "\n",
              "                                        genres  \\\n",
              "0           Action, Science Fiction, Adventure   \n",
              "1            Adventure, Drama, Science Fiction   \n",
              "2               Drama, Action, Crime, Thriller   \n",
              "3  Action, Adventure, Fantasy, Science Fiction   \n",
              "4           Science Fiction, Action, Adventure   \n",
              "\n",
              "                                production_companies  \\\n",
              "0  Legendary Pictures, Syncopy, Warner Bros. Pict...   \n",
              "1  Legendary Pictures, Syncopy, Lynda Obst Produc...   \n",
              "2  DC Comics, Legendary Pictures, Syncopy, Isobel...   \n",
              "3  Dune Entertainment, Lightstorm Entertainment, ...   \n",
              "4                                     Marvel Studios   \n",
              "\n",
              "                       production_countries  \\\n",
              "0  United Kingdom, United States of America   \n",
              "1  United Kingdom, United States of America   \n",
              "2  United Kingdom, United States of America   \n",
              "3  United States of America, United Kingdom   \n",
              "4                  United States of America   \n",
              "\n",
              "                     spoken_languages  \n",
              "0  English, French, Japanese, Swahili  \n",
              "1                             English  \n",
              "2                   English, Mandarin  \n",
              "3                    English, Spanish  \n",
              "4             English, Hindi, Russian  \n",
              "\n",
              "[5 rows x 23 columns]"
            ]
          },
          "execution_count": 4,
          "metadata": {},
          "output_type": "execute_result"
        }
      ],
      "source": [
        "tmdb_df.head()"
      ]
    },
    {
      "cell_type": "code",
      "execution_count": 5,
      "metadata": {
        "id": "L6FVd5AVIXsE"
      },
      "outputs": [
        {
          "data": {
            "text/plain": [
              "23"
            ]
          },
          "execution_count": 5,
          "metadata": {},
          "output_type": "execute_result"
        }
      ],
      "source": [
        "len(tmdb_df.columns)"
      ]
    },
    {
      "cell_type": "code",
      "execution_count": 6,
      "metadata": {
        "id": "TUF61yM_I90c"
      },
      "outputs": [
        {
          "data": {
            "text/plain": [
              "6.0"
            ]
          },
          "execution_count": 6,
          "metadata": {},
          "output_type": "execute_result"
        }
      ],
      "source": [
        "tmdb_df['vote_count'].quantile(0.9)"
      ]
    },
    {
      "cell_type": "code",
      "execution_count": 7,
      "metadata": {
        "id": "dHg7O4d9zJwQ"
      },
      "outputs": [
        {
          "data": {
            "text/html": [
              "<div>\n",
              "<style scoped>\n",
              "    .dataframe tbody tr th:only-of-type {\n",
              "        vertical-align: middle;\n",
              "    }\n",
              "\n",
              "    .dataframe tbody tr th {\n",
              "        vertical-align: top;\n",
              "    }\n",
              "\n",
              "    .dataframe thead th {\n",
              "        text-align: right;\n",
              "    }\n",
              "</style>\n",
              "<table border=\"1\" class=\"dataframe\">\n",
              "  <thead>\n",
              "    <tr style=\"text-align: right;\">\n",
              "      <th></th>\n",
              "      <th>id</th>\n",
              "      <th>title</th>\n",
              "      <th>vote_average</th>\n",
              "      <th>vote_count</th>\n",
              "      <th>status</th>\n",
              "      <th>release_date</th>\n",
              "      <th>revenue</th>\n",
              "      <th>runtime</th>\n",
              "      <th>adult</th>\n",
              "      <th>backdrop_path</th>\n",
              "      <th>...</th>\n",
              "      <th>overview</th>\n",
              "      <th>popularity</th>\n",
              "      <th>poster_path</th>\n",
              "      <th>tagline</th>\n",
              "      <th>genres</th>\n",
              "      <th>production_companies</th>\n",
              "      <th>production_countries</th>\n",
              "      <th>spoken_languages</th>\n",
              "      <th>year</th>\n",
              "      <th>title_year</th>\n",
              "    </tr>\n",
              "  </thead>\n",
              "  <tbody>\n",
              "    <tr>\n",
              "      <th>0</th>\n",
              "      <td>27205</td>\n",
              "      <td>Inception</td>\n",
              "      <td>8.364</td>\n",
              "      <td>34495</td>\n",
              "      <td>Released</td>\n",
              "      <td>2010-07-15</td>\n",
              "      <td>825532764</td>\n",
              "      <td>148</td>\n",
              "      <td>False</td>\n",
              "      <td>/8ZTVqvKDQ8emSGUEMjsS4yHAwrp.jpg</td>\n",
              "      <td>...</td>\n",
              "      <td>Cobb, a skilled thief who commits corporate es...</td>\n",
              "      <td>83.952</td>\n",
              "      <td>/oYuLEt3zVCKq57qu2F8dT7NIa6f.jpg</td>\n",
              "      <td>Your mind is the scene of the crime.</td>\n",
              "      <td>Action, Science Fiction, Adventure</td>\n",
              "      <td>Legendary Pictures, Syncopy, Warner Bros. Pict...</td>\n",
              "      <td>United Kingdom, United States of America</td>\n",
              "      <td>English, French, Japanese, Swahili</td>\n",
              "      <td>2010</td>\n",
              "      <td>Inception (2010)</td>\n",
              "    </tr>\n",
              "    <tr>\n",
              "      <th>1</th>\n",
              "      <td>157336</td>\n",
              "      <td>Interstellar</td>\n",
              "      <td>8.417</td>\n",
              "      <td>32571</td>\n",
              "      <td>Released</td>\n",
              "      <td>2014-11-05</td>\n",
              "      <td>701729206</td>\n",
              "      <td>169</td>\n",
              "      <td>False</td>\n",
              "      <td>/pbrkL804c8yAv3zBZR4QPEafpAR.jpg</td>\n",
              "      <td>...</td>\n",
              "      <td>The adventures of a group of explorers who mak...</td>\n",
              "      <td>140.241</td>\n",
              "      <td>/gEU2QniE6E77NI6lCU6MxlNBvIx.jpg</td>\n",
              "      <td>Mankind was born on Earth. It was never meant ...</td>\n",
              "      <td>Adventure, Drama, Science Fiction</td>\n",
              "      <td>Legendary Pictures, Syncopy, Lynda Obst Produc...</td>\n",
              "      <td>United Kingdom, United States of America</td>\n",
              "      <td>English</td>\n",
              "      <td>2014</td>\n",
              "      <td>Interstellar (2014)</td>\n",
              "    </tr>\n",
              "    <tr>\n",
              "      <th>2</th>\n",
              "      <td>155</td>\n",
              "      <td>The Dark Knight</td>\n",
              "      <td>8.512</td>\n",
              "      <td>30619</td>\n",
              "      <td>Released</td>\n",
              "      <td>2008-07-16</td>\n",
              "      <td>1004558444</td>\n",
              "      <td>152</td>\n",
              "      <td>False</td>\n",
              "      <td>/nMKdUUepR0i5zn0y1T4CsSB5chy.jpg</td>\n",
              "      <td>...</td>\n",
              "      <td>Batman raises the stakes in his war on crime. ...</td>\n",
              "      <td>130.643</td>\n",
              "      <td>/qJ2tW6WMUDux911r6m7haRef0WH.jpg</td>\n",
              "      <td>Welcome to a world without rules.</td>\n",
              "      <td>Drama, Action, Crime, Thriller</td>\n",
              "      <td>DC Comics, Legendary Pictures, Syncopy, Isobel...</td>\n",
              "      <td>United Kingdom, United States of America</td>\n",
              "      <td>English, Mandarin</td>\n",
              "      <td>2008</td>\n",
              "      <td>The Dark Knight (2008)</td>\n",
              "    </tr>\n",
              "    <tr>\n",
              "      <th>3</th>\n",
              "      <td>19995</td>\n",
              "      <td>Avatar</td>\n",
              "      <td>7.573</td>\n",
              "      <td>29815</td>\n",
              "      <td>Released</td>\n",
              "      <td>2009-12-15</td>\n",
              "      <td>2923706026</td>\n",
              "      <td>162</td>\n",
              "      <td>False</td>\n",
              "      <td>/vL5LR6WdxWPjLPFRLe133jXWsh5.jpg</td>\n",
              "      <td>...</td>\n",
              "      <td>In the 22nd century, a paraplegic Marine is di...</td>\n",
              "      <td>79.932</td>\n",
              "      <td>/kyeqWdyUXW608qlYkRqosgbbJyK.jpg</td>\n",
              "      <td>Enter the world of Pandora.</td>\n",
              "      <td>Action, Adventure, Fantasy, Science Fiction</td>\n",
              "      <td>Dune Entertainment, Lightstorm Entertainment, ...</td>\n",
              "      <td>United States of America, United Kingdom</td>\n",
              "      <td>English, Spanish</td>\n",
              "      <td>2009</td>\n",
              "      <td>Avatar (2009)</td>\n",
              "    </tr>\n",
              "    <tr>\n",
              "      <th>4</th>\n",
              "      <td>24428</td>\n",
              "      <td>The Avengers</td>\n",
              "      <td>7.710</td>\n",
              "      <td>29166</td>\n",
              "      <td>Released</td>\n",
              "      <td>2012-04-25</td>\n",
              "      <td>1518815515</td>\n",
              "      <td>143</td>\n",
              "      <td>False</td>\n",
              "      <td>/9BBTo63ANSmhC4e6r62OJFuK2GL.jpg</td>\n",
              "      <td>...</td>\n",
              "      <td>When an unexpected enemy emerges and threatens...</td>\n",
              "      <td>98.082</td>\n",
              "      <td>/RYMX2wcKCBAr24UyPD7xwmjaTn.jpg</td>\n",
              "      <td>Some assembly required.</td>\n",
              "      <td>Science Fiction, Action, Adventure</td>\n",
              "      <td>Marvel Studios</td>\n",
              "      <td>United States of America</td>\n",
              "      <td>English, Hindi, Russian</td>\n",
              "      <td>2012</td>\n",
              "      <td>The Avengers (2012)</td>\n",
              "    </tr>\n",
              "  </tbody>\n",
              "</table>\n",
              "<p>5 rows × 25 columns</p>\n",
              "</div>"
            ],
            "text/plain": [
              "       id            title  vote_average  vote_count    status release_date  \\\n",
              "0   27205        Inception         8.364       34495  Released   2010-07-15   \n",
              "1  157336     Interstellar         8.417       32571  Released   2014-11-05   \n",
              "2     155  The Dark Knight         8.512       30619  Released   2008-07-16   \n",
              "3   19995           Avatar         7.573       29815  Released   2009-12-15   \n",
              "4   24428     The Avengers         7.710       29166  Released   2012-04-25   \n",
              "\n",
              "      revenue  runtime  adult                     backdrop_path  ...  \\\n",
              "0   825532764      148  False  /8ZTVqvKDQ8emSGUEMjsS4yHAwrp.jpg  ...   \n",
              "1   701729206      169  False  /pbrkL804c8yAv3zBZR4QPEafpAR.jpg  ...   \n",
              "2  1004558444      152  False  /nMKdUUepR0i5zn0y1T4CsSB5chy.jpg  ...   \n",
              "3  2923706026      162  False  /vL5LR6WdxWPjLPFRLe133jXWsh5.jpg  ...   \n",
              "4  1518815515      143  False  /9BBTo63ANSmhC4e6r62OJFuK2GL.jpg  ...   \n",
              "\n",
              "                                            overview popularity  \\\n",
              "0  Cobb, a skilled thief who commits corporate es...     83.952   \n",
              "1  The adventures of a group of explorers who mak...    140.241   \n",
              "2  Batman raises the stakes in his war on crime. ...    130.643   \n",
              "3  In the 22nd century, a paraplegic Marine is di...     79.932   \n",
              "4  When an unexpected enemy emerges and threatens...     98.082   \n",
              "\n",
              "                        poster_path  \\\n",
              "0  /oYuLEt3zVCKq57qu2F8dT7NIa6f.jpg   \n",
              "1  /gEU2QniE6E77NI6lCU6MxlNBvIx.jpg   \n",
              "2  /qJ2tW6WMUDux911r6m7haRef0WH.jpg   \n",
              "3  /kyeqWdyUXW608qlYkRqosgbbJyK.jpg   \n",
              "4   /RYMX2wcKCBAr24UyPD7xwmjaTn.jpg   \n",
              "\n",
              "                                             tagline  \\\n",
              "0               Your mind is the scene of the crime.   \n",
              "1  Mankind was born on Earth. It was never meant ...   \n",
              "2                  Welcome to a world without rules.   \n",
              "3                        Enter the world of Pandora.   \n",
              "4                            Some assembly required.   \n",
              "\n",
              "                                        genres  \\\n",
              "0           Action, Science Fiction, Adventure   \n",
              "1            Adventure, Drama, Science Fiction   \n",
              "2               Drama, Action, Crime, Thriller   \n",
              "3  Action, Adventure, Fantasy, Science Fiction   \n",
              "4           Science Fiction, Action, Adventure   \n",
              "\n",
              "                                production_companies  \\\n",
              "0  Legendary Pictures, Syncopy, Warner Bros. Pict...   \n",
              "1  Legendary Pictures, Syncopy, Lynda Obst Produc...   \n",
              "2  DC Comics, Legendary Pictures, Syncopy, Isobel...   \n",
              "3  Dune Entertainment, Lightstorm Entertainment, ...   \n",
              "4                                     Marvel Studios   \n",
              "\n",
              "                       production_countries  \\\n",
              "0  United Kingdom, United States of America   \n",
              "1  United Kingdom, United States of America   \n",
              "2  United Kingdom, United States of America   \n",
              "3  United States of America, United Kingdom   \n",
              "4                  United States of America   \n",
              "\n",
              "                     spoken_languages  year              title_year  \n",
              "0  English, French, Japanese, Swahili  2010        Inception (2010)  \n",
              "1                             English  2014     Interstellar (2014)  \n",
              "2                   English, Mandarin  2008  The Dark Knight (2008)  \n",
              "3                    English, Spanish  2009           Avatar (2009)  \n",
              "4             English, Hindi, Russian  2012     The Avengers (2012)  \n",
              "\n",
              "[5 rows x 25 columns]"
            ]
          },
          "execution_count": 7,
          "metadata": {},
          "output_type": "execute_result"
        }
      ],
      "source": [
        "# in order to create a robust key \"title_year to join with the movielens dataset\"\n",
        "tmdb_df['release_date'] = pd.to_datetime(tmdb_df['release_date'], errors='coerce')\n",
        "tmdb_df['year'] = tmdb_df['release_date'].dt.year.astype('Int64').astype(str).replace('nan', '')\n",
        "tmdb_df['title_year'] = tmdb_df.apply(lambda x: f\"{x['title']} ({x['year']})\" if x['year'] else x['title'], axis=1)\n",
        "tmdb_df.head()\n"
      ]
    },
    {
      "cell_type": "code",
      "execution_count": 9,
      "metadata": {
        "id": "-GJyvxV6zJwR"
      },
      "outputs": [
        {
          "ename": "FileNotFoundError",
          "evalue": "[Errno 2] No such file or directory: 'ratings.csv'",
          "output_type": "error",
          "traceback": [
            "\u001b[0;31m---------------------------------------------------------------------------\u001b[0m",
            "\u001b[0;31mFileNotFoundError\u001b[0m                         Traceback (most recent call last)",
            "Cell \u001b[0;32mIn[9], line 1\u001b[0m\n\u001b[0;32m----> 1\u001b[0m df_ratings \u001b[39m=\u001b[39m pd\u001b[39m.\u001b[39;49mread_csv(\u001b[39m'\u001b[39;49m\u001b[39mratings.csv\u001b[39;49m\u001b[39m'\u001b[39;49m, sep\u001b[39m=\u001b[39;49m\u001b[39m'\u001b[39;49m\u001b[39m::\u001b[39;49m\u001b[39m'\u001b[39;49m, engine\u001b[39m=\u001b[39;49m\u001b[39m'\u001b[39;49m\u001b[39mpython\u001b[39;49m\u001b[39m'\u001b[39;49m, encoding\u001b[39m=\u001b[39;49m\u001b[39m'\u001b[39;49m\u001b[39mISO-8859-1\u001b[39;49m\u001b[39m'\u001b[39;49m, header\u001b[39m=\u001b[39;49m\u001b[39mNone\u001b[39;49;00m, names\u001b[39m=\u001b[39;49m[\u001b[39m'\u001b[39;49m\u001b[39mUserID\u001b[39;49m\u001b[39m'\u001b[39;49m, \u001b[39m'\u001b[39;49m\u001b[39mMovieID\u001b[39;49m\u001b[39m'\u001b[39;49m, \u001b[39m'\u001b[39;49m\u001b[39mRating\u001b[39;49m\u001b[39m'\u001b[39;49m, \u001b[39m'\u001b[39;49m\u001b[39mTimestamp\u001b[39;49m\u001b[39m'\u001b[39;49m]) \u001b[39m# ^same\u001b[39;00m\n\u001b[1;32m      2\u001b[0m df_ratings\u001b[39m.\u001b[39mhead(),df_ratings\u001b[39m.\u001b[39mshape\n",
            "File \u001b[0;32m/Library/Frameworks/Python.framework/Versions/3.11/lib/python3.11/site-packages/pandas/io/parsers/readers.py:1024\u001b[0m, in \u001b[0;36mread_csv\u001b[0;34m(filepath_or_buffer, sep, delimiter, header, names, index_col, usecols, dtype, engine, converters, true_values, false_values, skipinitialspace, skiprows, skipfooter, nrows, na_values, keep_default_na, na_filter, verbose, skip_blank_lines, parse_dates, infer_datetime_format, keep_date_col, date_parser, date_format, dayfirst, cache_dates, iterator, chunksize, compression, thousands, decimal, lineterminator, quotechar, quoting, doublequote, escapechar, comment, encoding, encoding_errors, dialect, on_bad_lines, delim_whitespace, low_memory, memory_map, float_precision, storage_options, dtype_backend)\u001b[0m\n\u001b[1;32m   1011\u001b[0m kwds_defaults \u001b[39m=\u001b[39m _refine_defaults_read(\n\u001b[1;32m   1012\u001b[0m     dialect,\n\u001b[1;32m   1013\u001b[0m     delimiter,\n\u001b[0;32m   (...)\u001b[0m\n\u001b[1;32m   1020\u001b[0m     dtype_backend\u001b[39m=\u001b[39mdtype_backend,\n\u001b[1;32m   1021\u001b[0m )\n\u001b[1;32m   1022\u001b[0m kwds\u001b[39m.\u001b[39mupdate(kwds_defaults)\n\u001b[0;32m-> 1024\u001b[0m \u001b[39mreturn\u001b[39;00m _read(filepath_or_buffer, kwds)\n",
            "File \u001b[0;32m/Library/Frameworks/Python.framework/Versions/3.11/lib/python3.11/site-packages/pandas/io/parsers/readers.py:618\u001b[0m, in \u001b[0;36m_read\u001b[0;34m(filepath_or_buffer, kwds)\u001b[0m\n\u001b[1;32m    615\u001b[0m _validate_names(kwds\u001b[39m.\u001b[39mget(\u001b[39m\"\u001b[39m\u001b[39mnames\u001b[39m\u001b[39m\"\u001b[39m, \u001b[39mNone\u001b[39;00m))\n\u001b[1;32m    617\u001b[0m \u001b[39m# Create the parser.\u001b[39;00m\n\u001b[0;32m--> 618\u001b[0m parser \u001b[39m=\u001b[39m TextFileReader(filepath_or_buffer, \u001b[39m*\u001b[39;49m\u001b[39m*\u001b[39;49mkwds)\n\u001b[1;32m    620\u001b[0m \u001b[39mif\u001b[39;00m chunksize \u001b[39mor\u001b[39;00m iterator:\n\u001b[1;32m    621\u001b[0m     \u001b[39mreturn\u001b[39;00m parser\n",
            "File \u001b[0;32m/Library/Frameworks/Python.framework/Versions/3.11/lib/python3.11/site-packages/pandas/io/parsers/readers.py:1618\u001b[0m, in \u001b[0;36mTextFileReader.__init__\u001b[0;34m(self, f, engine, **kwds)\u001b[0m\n\u001b[1;32m   1615\u001b[0m     \u001b[39mself\u001b[39m\u001b[39m.\u001b[39moptions[\u001b[39m\"\u001b[39m\u001b[39mhas_index_names\u001b[39m\u001b[39m\"\u001b[39m] \u001b[39m=\u001b[39m kwds[\u001b[39m\"\u001b[39m\u001b[39mhas_index_names\u001b[39m\u001b[39m\"\u001b[39m]\n\u001b[1;32m   1617\u001b[0m \u001b[39mself\u001b[39m\u001b[39m.\u001b[39mhandles: IOHandles \u001b[39m|\u001b[39m \u001b[39mNone\u001b[39;00m \u001b[39m=\u001b[39m \u001b[39mNone\u001b[39;00m\n\u001b[0;32m-> 1618\u001b[0m \u001b[39mself\u001b[39m\u001b[39m.\u001b[39m_engine \u001b[39m=\u001b[39m \u001b[39mself\u001b[39;49m\u001b[39m.\u001b[39;49m_make_engine(f, \u001b[39mself\u001b[39;49m\u001b[39m.\u001b[39;49mengine)\n",
            "File \u001b[0;32m/Library/Frameworks/Python.framework/Versions/3.11/lib/python3.11/site-packages/pandas/io/parsers/readers.py:1878\u001b[0m, in \u001b[0;36mTextFileReader._make_engine\u001b[0;34m(self, f, engine)\u001b[0m\n\u001b[1;32m   1876\u001b[0m     \u001b[39mif\u001b[39;00m \u001b[39m\"\u001b[39m\u001b[39mb\u001b[39m\u001b[39m\"\u001b[39m \u001b[39mnot\u001b[39;00m \u001b[39min\u001b[39;00m mode:\n\u001b[1;32m   1877\u001b[0m         mode \u001b[39m+\u001b[39m\u001b[39m=\u001b[39m \u001b[39m\"\u001b[39m\u001b[39mb\u001b[39m\u001b[39m\"\u001b[39m\n\u001b[0;32m-> 1878\u001b[0m \u001b[39mself\u001b[39m\u001b[39m.\u001b[39mhandles \u001b[39m=\u001b[39m get_handle(\n\u001b[1;32m   1879\u001b[0m     f,\n\u001b[1;32m   1880\u001b[0m     mode,\n\u001b[1;32m   1881\u001b[0m     encoding\u001b[39m=\u001b[39;49m\u001b[39mself\u001b[39;49m\u001b[39m.\u001b[39;49moptions\u001b[39m.\u001b[39;49mget(\u001b[39m\"\u001b[39;49m\u001b[39mencoding\u001b[39;49m\u001b[39m\"\u001b[39;49m, \u001b[39mNone\u001b[39;49;00m),\n\u001b[1;32m   1882\u001b[0m     compression\u001b[39m=\u001b[39;49m\u001b[39mself\u001b[39;49m\u001b[39m.\u001b[39;49moptions\u001b[39m.\u001b[39;49mget(\u001b[39m\"\u001b[39;49m\u001b[39mcompression\u001b[39;49m\u001b[39m\"\u001b[39;49m, \u001b[39mNone\u001b[39;49;00m),\n\u001b[1;32m   1883\u001b[0m     memory_map\u001b[39m=\u001b[39;49m\u001b[39mself\u001b[39;49m\u001b[39m.\u001b[39;49moptions\u001b[39m.\u001b[39;49mget(\u001b[39m\"\u001b[39;49m\u001b[39mmemory_map\u001b[39;49m\u001b[39m\"\u001b[39;49m, \u001b[39mFalse\u001b[39;49;00m),\n\u001b[1;32m   1884\u001b[0m     is_text\u001b[39m=\u001b[39;49mis_text,\n\u001b[1;32m   1885\u001b[0m     errors\u001b[39m=\u001b[39;49m\u001b[39mself\u001b[39;49m\u001b[39m.\u001b[39;49moptions\u001b[39m.\u001b[39;49mget(\u001b[39m\"\u001b[39;49m\u001b[39mencoding_errors\u001b[39;49m\u001b[39m\"\u001b[39;49m, \u001b[39m\"\u001b[39;49m\u001b[39mstrict\u001b[39;49m\u001b[39m\"\u001b[39;49m),\n\u001b[1;32m   1886\u001b[0m     storage_options\u001b[39m=\u001b[39;49m\u001b[39mself\u001b[39;49m\u001b[39m.\u001b[39;49moptions\u001b[39m.\u001b[39;49mget(\u001b[39m\"\u001b[39;49m\u001b[39mstorage_options\u001b[39;49m\u001b[39m\"\u001b[39;49m, \u001b[39mNone\u001b[39;49;00m),\n\u001b[1;32m   1887\u001b[0m )\n\u001b[1;32m   1888\u001b[0m \u001b[39massert\u001b[39;00m \u001b[39mself\u001b[39m\u001b[39m.\u001b[39mhandles \u001b[39mis\u001b[39;00m \u001b[39mnot\u001b[39;00m \u001b[39mNone\u001b[39;00m\n\u001b[1;32m   1889\u001b[0m f \u001b[39m=\u001b[39m \u001b[39mself\u001b[39m\u001b[39m.\u001b[39mhandles\u001b[39m.\u001b[39mhandle\n",
            "File \u001b[0;32m/Library/Frameworks/Python.framework/Versions/3.11/lib/python3.11/site-packages/pandas/io/common.py:873\u001b[0m, in \u001b[0;36mget_handle\u001b[0;34m(path_or_buf, mode, encoding, compression, memory_map, is_text, errors, storage_options)\u001b[0m\n\u001b[1;32m    868\u001b[0m \u001b[39melif\u001b[39;00m \u001b[39misinstance\u001b[39m(handle, \u001b[39mstr\u001b[39m):\n\u001b[1;32m    869\u001b[0m     \u001b[39m# Check whether the filename is to be opened in binary mode.\u001b[39;00m\n\u001b[1;32m    870\u001b[0m     \u001b[39m# Binary mode does not support 'encoding' and 'newline'.\u001b[39;00m\n\u001b[1;32m    871\u001b[0m     \u001b[39mif\u001b[39;00m ioargs\u001b[39m.\u001b[39mencoding \u001b[39mand\u001b[39;00m \u001b[39m\"\u001b[39m\u001b[39mb\u001b[39m\u001b[39m\"\u001b[39m \u001b[39mnot\u001b[39;00m \u001b[39min\u001b[39;00m ioargs\u001b[39m.\u001b[39mmode:\n\u001b[1;32m    872\u001b[0m         \u001b[39m# Encoding\u001b[39;00m\n\u001b[0;32m--> 873\u001b[0m         handle \u001b[39m=\u001b[39m \u001b[39mopen\u001b[39;49m(\n\u001b[1;32m    874\u001b[0m             handle,\n\u001b[1;32m    875\u001b[0m             ioargs\u001b[39m.\u001b[39;49mmode,\n\u001b[1;32m    876\u001b[0m             encoding\u001b[39m=\u001b[39;49mioargs\u001b[39m.\u001b[39;49mencoding,\n\u001b[1;32m    877\u001b[0m             errors\u001b[39m=\u001b[39;49merrors,\n\u001b[1;32m    878\u001b[0m             newline\u001b[39m=\u001b[39;49m\u001b[39m\"\u001b[39;49m\u001b[39m\"\u001b[39;49m,\n\u001b[1;32m    879\u001b[0m         )\n\u001b[1;32m    880\u001b[0m     \u001b[39melse\u001b[39;00m:\n\u001b[1;32m    881\u001b[0m         \u001b[39m# Binary mode\u001b[39;00m\n\u001b[1;32m    882\u001b[0m         handle \u001b[39m=\u001b[39m \u001b[39mopen\u001b[39m(handle, ioargs\u001b[39m.\u001b[39mmode)\n",
            "\u001b[0;31mFileNotFoundError\u001b[0m: [Errno 2] No such file or directory: 'ratings.csv'"
          ]
        }
      ],
      "source": [
        "df_ratings = pd.read_csv('ratings.csv', sep='::', engine='python', encoding='ISO-8859-1', header=None, names=['UserID', 'MovieID', 'Rating', 'Timestamp']) # ^same\n",
        "df_ratings.head(),df_ratings.shape"
      ]
    },
    {
      "cell_type": "code",
      "execution_count": null,
      "metadata": {
        "id": "OlRjgDyZzJwR"
      },
      "outputs": [],
      "source": [
        "df_users = pd.read_csv(file_path + 'users.csv', sep='::', engine='python', encoding='ISO-8859-1', header=None, names=['UserID', 'Gender', 'Age', 'Occupation','ZipCode']) # ^same\n",
        "df_users.head(), df_users.shape"
      ]
    },
    {
      "cell_type": "code",
      "execution_count": null,
      "metadata": {
        "id": "SYaBNHx4Tj7d"
      },
      "outputs": [],
      "source": [
        "df_movies = pd.read_csv(file_path + 'movies.csv', sep='::', engine='python', encoding='ISO-8859-1', header=None, names=['MovieID', 'Title', 'Genre']) # ^same\n",
        "df_movies.head()"
      ]
    },
    {
      "cell_type": "code",
      "execution_count": null,
      "metadata": {
        "id": "H4WjiSVnzJwR"
      },
      "outputs": [],
      "source": [
        "df_ml_combined = pd.merge(pd.merge(df_ratings, df_movies, on='MovieID'), df_users, on='UserID') #this is the merged version of the MovieLens Dataset\n",
        "df_ml_combined.head(), df_ml_combined.shape"
      ]
    },
    {
      "cell_type": "code",
      "execution_count": null,
      "metadata": {
        "id": "CYdTFJyCzJwS"
      },
      "outputs": [],
      "source": [
        "# fuzzy wuzzy\n",
        "#now to finally merge the datasets\n",
        "merged_df = pd.merge(df_ml_combined, tmdb_df, left_on='Title', right_on='title_year', how='left') #main dataset\n",
        "merged_df.head()\n",
        "#use Genres from movielens"
      ]
    },
    {
      "cell_type": "code",
      "execution_count": null,
      "metadata": {
        "id": "53KqV9jWUnC5"
      },
      "outputs": [],
      "source": [
        "merged_df.shape"
      ]
    },
    {
      "cell_type": "code",
      "execution_count": null,
      "metadata": {
        "id": "acZn0kyUzJwS"
      },
      "outputs": [],
      "source": [
        "print(merged_df.columns)\n",
        "# Counting how many NA values are in the 'UserID' column\n",
        "user_id_na_count = merged_df['UserID'].isna().sum()\n",
        "\n",
        "print(\"Number of NA values in the UserID column:\", user_id_na_count)\n",
        "# Assuming 'df' is your DataFrame\n",
        "important_columns = ['Title', 'Genre', 'overview', 'tagline', 'original_language', 'release_date', 'runtime', 'vote_average', 'vote_count', 'production_companies', 'production_countries', 'spoken_languages', 'year']\n",
        "\n",
        "# Check for any NA values in these columns\n",
        "na_columns = merged_df[important_columns].isna().any()\n",
        "\n",
        "# Print columns with NA values\n",
        "print(\"Columns with NA values:\", na_columns[na_columns].index.tolist())\n",
        "na_columns.shape\n"
      ]
    },
    {
      "cell_type": "markdown",
      "metadata": {
        "id": "AMlHMiTdj9ZH"
      },
      "source": [
        "# Start of work"
      ]
    },
    {
      "cell_type": "code",
      "execution_count": null,
      "metadata": {
        "id": "CY7grOt3i8Oy"
      },
      "outputs": [],
      "source": [
        "## start of work\n",
        "# only movies that eexist in both datasets\n",
        "pre_2000 = merged_df.dropna()\n",
        "pre_2000.columns\n"
      ]
    },
    {
      "cell_type": "code",
      "execution_count": null,
      "metadata": {
        "id": "a4GeRfDUL-4D"
      },
      "outputs": [],
      "source": [
        "pre_2000.shape"
      ]
    },
    {
      "cell_type": "code",
      "execution_count": null,
      "metadata": {
        "id": "f15GLEKXkzAM"
      },
      "outputs": [],
      "source": [
        "#mostly english --> not significant\n",
        "pre_2000['original_language'].value_counts()"
      ]
    },
    {
      "cell_type": "code",
      "execution_count": null,
      "metadata": {
        "id": "W8mHIfLqlBtH"
      },
      "outputs": [],
      "source": [
        "#Mostly usa and uk--> can drop\n",
        "pre_2000['production_countries'].value_counts()"
      ]
    },
    {
      "cell_type": "code",
      "execution_count": null,
      "metadata": {
        "id": "v4O-3Vv1mHFB"
      },
      "outputs": [],
      "source": [
        "pre_2000['production_companies'].value_counts()"
      ]
    },
    {
      "cell_type": "code",
      "execution_count": null,
      "metadata": {
        "id": "wPuyzad7oF0d"
      },
      "outputs": [],
      "source": [
        "#preprocess\n",
        "# dropped age, occupation, zipcode from movielens\n",
        "to_keep = ['UserID', 'Rating', 'Gender',\n",
        "       'id', 'title', 'vote_average',\n",
        "       'vote_count', 'revenue', 'runtime', 'adult','budget',\n",
        "       'overview', 'popularity', 'tagline',\n",
        "       'genres', 'production_companies',\n",
        "       'spoken_languages', 'year']\n",
        "\n",
        "pre_2000_analysis = pre_2000[to_keep].rename(columns={'UserID': 'userId',\n",
        "                                                      'Rating': 'rating',\n",
        "                                                      'Gender':'gender'})\n",
        "\n",
        "# analysis\n",
        "# about 3.5x more M than F reviews\n",
        "# multiplier to F ratings\n",
        "\n",
        "\n",
        "\n",
        "gender_count = pre_2000_analysis['gender'].value_counts()\n",
        "gender_count.plot(kind='bar')\n",
        "# -1 or 3.55zzxcad\n",
        "pre_2000_analysis['gender'] = pre_2000_analysis['gender'].apply(lambda x: -1 if x == 'M' else  gender_count['M']/gender_count['F'])\n",
        "\n",
        "# pre_2000_analysis['adult'] = pre_2000_analysis['adult'].apply(lambda x: 1 if x else -1)\n",
        "\n",
        "# gender rating ->  more than 0 --> more prefered by F and vice versa\n",
        "pre_2000_analysis['gender_rating'] = pre_2000_analysis['gender'] * pre_2000_analysis['rating']\n"
      ]
    },
    {
      "cell_type": "code",
      "execution_count": null,
      "metadata": {
        "id": "_uwnsYcW3Fp-"
      },
      "outputs": [],
      "source": [
        "#aggregate\n",
        "import seaborn as sns\n",
        "# each row is 1 movie\n",
        "agg_analysis = pre_2000_analysis.groupby('id').agg({k: 'mean' if v in ('int64', 'float64') else 'first'\n",
        "                          for k,v in pre_2000_analysis.dtypes[1:].items()})\n",
        "agg_analysis.head()"
      ]
    },
    {
      "cell_type": "code",
      "execution_count": null,
      "metadata": {
        "id": "8xL0znuJoCjF"
      },
      "outputs": [],
      "source": [
        "#correlation matrix for numrical cols\n",
        "to_drop = ['rating', 'gender', 'id']\n",
        "agg_analysis = agg_analysis.drop(columns = to_drop)\n",
        "\n",
        "numerical_columns = ['vote_average', 'vote_count', 'revenue', 'runtime', 'budget',\n",
        "                     'popularity', 'gender_rating']\n",
        "num_analysis = agg_analysis[numerical_columns]\n",
        "num_corr = num_analysis.corr()\n",
        "\n",
        "plt.figure(figsize=(8, 6))\n",
        "sns.heatmap(num_corr, annot=True, cmap='coolwarm', fmt=\".2f\", square=True)\n",
        "plt.title('Correlation Matrix')\n",
        "plt.show()"
      ]
    },
    {
      "cell_type": "code",
      "execution_count": null,
      "metadata": {
        "id": "3V11RbsfN9UU"
      },
      "outputs": [],
      "source": [
        "agg_analysis.shape"
      ]
    },
    {
      "cell_type": "markdown",
      "metadata": {
        "id": "jdfg7GzEqutj"
      },
      "source": [
        "not much correlation between gender rating and other columns  \n",
        "  \n",
        "except popularity --> slight inverse rs?"
      ]
    },
    {
      "cell_type": "code",
      "execution_count": null,
      "metadata": {
        "id": "0KSWLMcZVTpJ"
      },
      "outputs": [],
      "source": [
        "## applying the pref gender column to tmdb dataset\n",
        "## first must clean tmdb\n",
        "# 1 million rows of movies\n",
        "print(f'{tmdb_df.shape[0]} rows of movies')\n",
        "print(f\"{tmdb_df['vote_count'].quantile(0.9)} votes in the 90th percentile\")\n",
        "# threshold --> how many votes a movie must have to be included in our rec sys\n",
        "# can be changed\n",
        "threshold = 100\n",
        "to_keep = ['id', 'title', 'vote_average',\n",
        "       'vote_count', 'revenue', 'runtime', 'adult','budget',\n",
        "       'overview', 'popularity', 'tagline',\n",
        "       'genres', 'production_companies',\n",
        "       'spoken_languages', 'year']\n",
        "tmdb_above_100 = tmdb_df[tmdb_df['vote_count'] >= 100]\n",
        "tmdb_below_100 = tmdb_df[tmdb_df['vote_count'] < 100]\n",
        "tmdb_above_100 = tmdb_above_100[to_keep]\n",
        "tmdb_above_100.shape"
      ]
    },
    {
      "cell_type": "code",
      "execution_count": null,
      "metadata": {
        "id": "pQnDYQ8BeG79"
      },
      "outputs": [],
      "source": [
        "#word soup + tfidf\n",
        "# remove commas from genres\n",
        "agg_analysis['genres'] =agg_analysis['genres'].apply(lambda x: x.replace(',',''))\n",
        "\n",
        "word_cols = ['overview', 'tagline',\n",
        "       'genres', 'production_companies',\n",
        "       'spoken_languages']\n",
        "# TODO: shuffle word soup\n",
        "agg_analysis['word_soup'] = agg_analysis[word_cols].sum(axis = 1)\n",
        "\n",
        "\n",
        "tmdb_above_100['genres'] =tmdb_above_100['genres'].apply(lambda x: str(x).replace(',',''))\n",
        "tmdb_above_100[word_cols] = tmdb_above_100[word_cols].astype(str)\n",
        "# can do more text preprocessing on the word soup --> remove all punctuations,\n",
        "# lemmatize, stemming\n",
        "tmdb_above_100['word_soup'] = tmdb_above_100[word_cols].sum(axis = 1)\n",
        "tmdb_above_100['word_soup'].head()\n",
        "# remove word columns since we are done with it\n",
        "tmdb_above_100 = tmdb_above_100.drop(word_cols, axis = 1)\n",
        "# edit adult column\n",
        "agg_analysis['word_soup'].head()"
      ]
    },
    {
      "cell_type": "code",
      "execution_count": null,
      "metadata": {
        "id": "m4ELwLSK13ue"
      },
      "outputs": [],
      "source": [
        "from sklearn.feature_extraction.text import TfidfVectorizer\n",
        "# can choose another way to encode the word soup e.g. BERT\n",
        "tfidf = TfidfVectorizer(stop_words= 'english', max_features=100000,dtype = np.float32)\n",
        "# tmdb_above_100 has 180000 rows --> bigger vocab\n",
        "# agg_analysis (movielens and tmdb combined) has 216 rows --> smaller vocab\n",
        "tfidf.fit(tmdb_above_100['word_soup'])\n",
        "soup_tfidf = tfidf.transform(agg_analysis['word_soup'])\n",
        "\n",
        "# print(soup_tfidf.shape,type(soup_tfidf))\n",
        "# data for our classifier\n",
        "_soup_tfidf = soup_tfidf.astype('float32').toarray()\n",
        "# 1 for F, 0 for M\n",
        "# label for our classifier\n",
        "gender_pref = agg_analysis['gender_rating'].apply(lambda x: 1 if x > 0 else 0)\n",
        "\n",
        "\n"
      ]
    },
    {
      "cell_type": "code",
      "execution_count": null,
      "metadata": {
        "id": "9psk5J266Asu"
      },
      "outputs": [],
      "source": [
        "from sklearn.model_selection import train_test_split\n",
        "X_train, X_test, y_train, y_test = train_test_split(soup_tfidf, gender_pref, test_size=0.2, random_state=42)"
      ]
    },
    {
      "cell_type": "code",
      "execution_count": null,
      "metadata": {
        "id": "bSAtpmGC66Yg"
      },
      "outputs": [],
      "source": [
        "import xgboost as xgb\n",
        "from sklearn.svm import SVC\n",
        "from sklearn.linear_model import LogisticRegression\n",
        "from sklearn.naive_bayes import MultinomialNB\n",
        "from sklearn.metrics import accuracy_score\n",
        "# trying different models\n",
        "xgb_clf = xgb.XGBClassifier()\n",
        "xgb_clf.fit(X_train, y_train)\n",
        "\n",
        "svc_clf = SVC()\n",
        "svc_clf.fit(X_train, y_train)\n",
        "\n",
        "lr_clf = LogisticRegression()\n",
        "lr_clf.fit(X_train, y_train)\n",
        "\n",
        "nb_clf = MultinomialNB()\n",
        "nb_clf.fit(X_train, y_train)\n",
        "\n",
        "# Make predictions on the testing set\n",
        "svc_pred = svc_clf.predict(X_test)\n",
        "lr_pred = lr_clf.predict(X_test)\n",
        "nb_pred = nb_clf.predict(X_test)\n",
        "xgb_pred = xgb_clf.predict(X_test)\n",
        "\n",
        "svc_accuracy = accuracy_score(y_test, svc_pred)\n",
        "lr_accuracy = accuracy_score(y_test, lr_pred)\n",
        "nb_accuracy = accuracy_score(y_test, nb_pred)\n",
        "xgb_accuracy = accuracy_score(y_test, xgb_pred)\n",
        "\n",
        "print(\"Support Vector Classifier Accuracy:\", svc_accuracy)\n",
        "print(\"Logistic Regression Accuracy:\", lr_accuracy)\n",
        "print(\"Multinomial Naive Bayes Accuracy:\", nb_accuracy)\n",
        "print(\"XGB Accuracy:\", xgb_accuracy)"
      ]
    },
    {
      "cell_type": "code",
      "execution_count": null,
      "metadata": {
        "id": "5xkGwnWdOQtr"
      },
      "outputs": [],
      "source": [
        "tmdb_tfidf = tfidf.transform(tmdb_above_100['word_soup'])\n",
        "# print(soup_tfidf.shape,type(soup_tfidf))\n",
        "tmdb_tfidf = tmdb_tfidf.astype('float32').toarray()\n",
        "# 1 for F, 0 for M\n",
        "tmdb_gender_pref = xgb_clf.predict(tmdb_tfidf)\n",
        "tmdb_gender_pref.shape"
      ]
    },
    {
      "cell_type": "code",
      "execution_count": null,
      "metadata": {
        "id": "vlf9VoF_WMQD"
      },
      "outputs": [],
      "source": [
        "numerical_columns = ['vote_average', 'vote_count', 'revenue', 'runtime', 'budget',\n",
        "                     'popularity', 'gender_pref','adult']\n",
        "# converting back to -1 for male, 1 for female\n",
        "tmdb_above_100['gender_pref'] = tmdb_gender_pref\n",
        "tmdb_above_100['gender_pref'] = tmdb_above_100['gender_pref'].apply(lambda x : -1 if x == 0 else 1)\n",
        "# -1 if adult, 1 if not\n",
        "tmdb_above_100['adult'] = tmdb_above_100['adult'].apply(lambda x : -1 if x  else 1)\n",
        "# without scaling first\n",
        "tmdb_num = tmdb_above_100[numerical_columns]"
      ]
    },
    {
      "cell_type": "code",
      "execution_count": null,
      "metadata": {
        "id": "WCkH8P6af6n3"
      },
      "outputs": [],
      "source": [
        "#free up ram\n",
        "import gc\n",
        "del df_ml_combined\n",
        "del df_movies\n",
        "del df_ratings\n",
        "del df_users\n",
        "del pre_2000\n",
        "del pre_2000_analysis\n",
        "del soup_tfidf\n",
        "del tmdb_df\n",
        "del merged_df\n",
        "del xgb_clf\n",
        "del svc_clf\n",
        "del nb_clf\n",
        "del lr_clf\n",
        "del X_test\n",
        "del X_train\n",
        "del agg_analysis\n",
        "\n",
        "gc.collect()"
      ]
    },
    {
      "cell_type": "code",
      "execution_count": null,
      "metadata": {
        "id": "D74EHrxvYv2G"
      },
      "outputs": [],
      "source": [
        "# create cosine similarity matrix\n",
        "# doing it in batches to free up memory\n",
        "\n",
        "\n",
        "# def batch_cosine_similarity(m1, m2, batch_size=100):\n",
        "#     assert m1.shape[1] == m2.shape[1]\n",
        "#     ret = np.ndarray((m1.shape[0], m2.shape[0]), dtype=np.float32)\n",
        "#     for row_i in range(0, int(m1.shape[0] / batch_size) + 1):\n",
        "#         start = row_i * batch_size\n",
        "#         end = min([(row_i + 1) * batch_size, m1.shape[0]])\n",
        "#         if end <= start:\n",
        "#             break\n",
        "#         rows = m1[start: end]\n",
        "#         sim = cosine_similarity(rows, m2) # rows is O(1) size\n",
        "#         ret[start: end] = sim\n",
        "#     return ret\n"
      ]
    },
    {
      "cell_type": "code",
      "execution_count": null,
      "metadata": {
        "id": "rehpt8vWaGat"
      },
      "outputs": [],
      "source": [
        "from sklearn.metrics.pairwise import cosine_similarity\n",
        "cos_matrix_initial = cosine_similarity(tmdb_num.values,tmdb_num.values,dense_output = False)"
      ]
    },
    {
      "cell_type": "code",
      "execution_count": null,
      "metadata": {
        "id": "MmHtEd_EbGNc"
      },
      "outputs": [],
      "source": [
        "# threshold -when is it too unsimilar\n",
        "# strict_k - when you want to enforce threshold\n",
        "def recommend_movies(data, movie, similarity_matrix, top_k=10, threshold = 0.5, strict_k = True):\n",
        "  # get index of movie with <title> in dataframe\n",
        "  index = data.index[data['title'] == movie][0]\n",
        "  try:\n",
        "    score_arr = similarity_matrix[index].toarray()\n",
        "  except:\n",
        "    score_arr = similarity_matrix[index]\n",
        "  if not strict_k:\n",
        "    score_arr =   np.fromiter((x for x in score_arr if x > threshold), dtype=score_arr.dtype)\n",
        "  reversed_score_arr = np.argsort(score_arr)[::-1]\n",
        "\n",
        "  top_k_movies = reversed_score_arr[1:top_k + 1]\n",
        "  return data.iloc[top_k_movies]\n",
        "\n",
        "def recommend_movie_index(index, similarity_matrix, top_k=10, threshold = 0.5):\n",
        "  try:\n",
        "    score_arr = similarity_matrix[index].toarray()\n",
        "  except:\n",
        "    score_arr = similarity_matrix[index]\n",
        "\n",
        "  score_arr =   np.fromiter((x for x in score_arr if x > threshold), dtype=score_arr.dtype)\n",
        "  top_k = min(top_k,len(score_arr))\n",
        "  reversed_score_arr = np.argsort(score_arr)[::-1]\n",
        "  return reversed_score_arr[1:top_k + 1]\n",
        "\n"
      ]
    },
    {
      "cell_type": "code",
      "execution_count": null,
      "metadata": {
        "id": "qxgV27MSrh1N"
      },
      "outputs": [],
      "source": [
        "recommend_movies(tmdb_above_100, \"Inception\", cos_matrix_initial)"
      ]
    },
    {
      "cell_type": "code",
      "execution_count": null,
      "metadata": {
        "id": "hm4nvF-kbO5n"
      },
      "outputs": [],
      "source": [
        "# gets all relevant movie indexes for 1 movie --> change rating to some other combination of variable\n",
        "\n",
        "def get_relevant(df,ratings,index, a = 0.1):\n",
        "\n",
        "    movie_score = df.iloc[index].sum()\n",
        "    relevant = ratings.between(movie_score - a, movie_score + a).index\n",
        "    return relevant\n"
      ]
    },
    {
      "cell_type": "code",
      "execution_count": null,
      "metadata": {
        "id": "AAMsDTgVgq35"
      },
      "outputs": [],
      "source": [
        "# gets precision for 1 movie\n",
        "\n",
        "def precision_for_movie(df,ratings,index,similarity_matrix,relevance_range):\n",
        "\n",
        "    relevant_items = get_relevant(df,ratings,index,0.1)\n",
        "\n",
        "    recommended_items = recommend_movie_index(index, similarity_matrix,\n",
        "                                              top_k = len(relevant_items),\n",
        "                                              threshold= 0.1)\n",
        "    # Calculate the intersection of recommended_items and relevant_items\n",
        "    true_positive = len(set(recommended_items).intersection(set(relevant_items)))\n",
        "\n",
        "    # Calculate the total number of recommended items\n",
        "    total_recommended_items = len(recommended_items)\n",
        "\n",
        "    # Calculate precision\n",
        "    precision_value = true_positive / total_recommended_items if total_recommended_items > 0 else 0\n",
        "    return precision_value\n",
        "\n",
        "# get model precision\n",
        "def model_precision(df,ratings,similarity_matrix,relevance_range):\n",
        "    total = 0\n",
        "    df_dict = df.to_dict('records')\n",
        "    for row in range(len(df_dict)):\n",
        "        total += precision_for_movie(df,ratings,row, similarity_matrix,relevance_range)\n",
        "    return total/len(df)\n",
        "\n",
        "# get recall for 1 movie\n",
        "def recall_for_movie(df,ratings,index,similarity_matrix,relevance_range):\n",
        "    relevant_items = get_relevant(df,ratings,index,0.1)\n",
        "    recommended_items = recommend_movie_index(index, similarity_matrix,\n",
        "                                              top_k = len(relevant_items),\n",
        "                                              threshold=0.1)\n",
        "    # Calculate the intersection of recommended_items and relevant_items\n",
        "    true_positive = len(set(recommended_items).intersection(set(relevant_items)))\n",
        "\n",
        "    # Calculate the total number of relevant items\n",
        "    total_relevant_items = len(relevant_items)\n",
        "\n",
        "    # Calculate recall\n",
        "    recall_value = true_positive / total_relevant_items if total_relevant_items > 0 else 0\n",
        "    return recall_value\n",
        "# get model recall\n",
        "def model_recall(df,ratings,similarity_matrix,relevance_range):\n",
        "    total = 0\n",
        "    df_dict = df.to_dict('records')\n",
        "    for row in range(len(df_dict)):\n",
        "        total += recall_for_movie(df,ratings,row,similarity_matrix,relevance_range)\n",
        "    return total/len(df)\n",
        "\n",
        "\n",
        "def model_f1_score(precision,recall):\n",
        "    return (2*precision*recall)/(precision+recall)\n"
      ]
    },
    {
      "cell_type": "code",
      "execution_count": null,
      "metadata": {
        "id": "JmhBF8BSBUt-"
      },
      "outputs": [],
      "source": [
        "tmdb_rating_initial = tmdb_num.sum(axis = 1)"
      ]
    },
    {
      "cell_type": "code",
      "execution_count": null,
      "metadata": {
        "id": "p7QXpnLhhm24"
      },
      "outputs": [],
      "source": [
        "#compare precision, recall, and f1 before and after processing + additional feature engineering\n",
        "precision_initial = model_precision(tmdb_num, tmdb_rating_initial,cos_matrix_initial,100000)\n",
        "recall_initial = model_recall(tmdb_num,tmdb_rating_initial, cos_matrix_initial,100000)\n",
        "f1_initial = model_f1_score(precision_initial,recall_initial)\n"
      ]
    },
    {
      "cell_type": "code",
      "execution_count": null,
      "metadata": {
        "id": "CJniGbafGj_Z"
      },
      "outputs": [],
      "source": [
        "print(f'Model Precision: {precision_initial}')\n",
        "print(f'Model Recall: {recall_initial}')\n",
        "print(f'Model F1: {f1_initial}')"
      ]
    },
    {
      "cell_type": "code",
      "execution_count": null,
      "metadata": {
        "id": "zWppxfJWBJmH"
      },
      "outputs": [],
      "source": [
        "# cos matrix with scaling and preprocessing here + add encoding\n",
        "# scaling num columns\n",
        "from sklearn.preprocessing import MinMaxScaler\n",
        "to_scale_1 = ['vote_average', 'revenue', 'runtime', 'budget',\n",
        "             'gender_pref','adult']\n",
        "            #  female pref non adult movie -> 9 --> because non adult is +ve and female pref is +ve\n",
        "            #  male rpef adult movie --> 6\n",
        "            # sum(numerical columns) * gender pref --> female pref movies --> rating +ve and -ve for men\n",
        "# ['vote_average' + 'revenue' + 'runtime'+ 'budget'+ 'gender_pref' +'adult' + 'vote_count'+'popularity']\n",
        "to_scale_2 = ['vote_count','popularity']\n",
        "tmdb_above_100_copy = tmdb_above_100.copy(deep=True)\n",
        "scaler1 = MinMaxScaler(feature_range = (-1,1))\n",
        "# vote_count and popularity more correlated with higher vote average\n",
        "scaler2 = MinMaxScaler(feature_range = (-2,2))\n",
        "# tmdb_above_100_copy.head()\n",
        "\n",
        "tmdb_above_100['gender_pref'] = tmdb_above_100['gender_pref'].apply(lambda x : -1 if x == 0 else 1)\n",
        "tmdb_above_100_copy[to_scale_1] = scaler1.fit_transform(\n",
        "    tmdb_above_100_copy[to_scale_1])\n",
        "tmdb_above_100_copy[to_scale_2] = scaler2.fit_transform(\n",
        "    tmdb_above_100_copy[to_scale_2])\n",
        "# add encoding back\n",
        "\n",
        "tmdb_scaled = pd.concat([tmdb_above_100_copy[numerical_columns], pd.DataFrame(tmdb_tfidf)], axis=1)\n",
        "tmdb_scaled.head()\n"
      ]
    },
    {
      "cell_type": "code",
      "execution_count": null,
      "metadata": {
        "id": "wqD4_Kz8BKtW"
      },
      "outputs": [],
      "source": [
        "tmdb_rating_scaled = tmdb_scaled[numerical_columns].sum(axis = 1)"
      ]
    },
    {
      "cell_type": "code",
      "execution_count": null,
      "metadata": {
        "id": "bc0NkFwDv6kQ"
      },
      "outputs": [],
      "source": [
        "del cos_matrix_initial\n",
        "gc.collect()"
      ]
    },
    {
      "cell_type": "code",
      "execution_count": null,
      "metadata": {
        "id": "HkfYS2S7e94X"
      },
      "outputs": [],
      "source": [
        "cos_matrix_final = cosine_similarity(tmdb_scaled.values,tmdb_scaled.values,dense_output = False)\n",
        "\n",
        "precision_final = model_precision(tmdb_scaled,tmdb_rating_scaled,cos_matrix_final)\n",
        "recall_final = model_recall(tmdb_scaled,tmdb_rating_scaled,cos_matrix_final)\n",
        "f1_final = model_f1_score(precision_final, recall_final)"
      ]
    },
    {
      "cell_type": "code",
      "execution_count": null,
      "metadata": {
        "id": "drOImcv5TDvv"
      },
      "outputs": [],
      "source": [
        "print(f'Model Precision: {precision_final}')\n",
        "print(f'Model Recall: {recall_final}')\n",
        "print(f'Model F1: {f1_final}')"
      ]
    },
    {
      "cell_type": "markdown",
      "metadata": {
        "id": "VZKzdTevCy2c"
      },
      "source": [
        "## Final Recommendation"
      ]
    },
    {
      "cell_type": "code",
      "execution_count": null,
      "metadata": {
        "id": "7JuxtEvSHJEk"
      },
      "outputs": [],
      "source": [
        "import random\n",
        "def add_random_movie(random_movie_df, recommended_movies_df,n_random = 1):\n",
        "  random.seed(42)\n",
        "  while n_random:\n",
        "    random_index = random.randint(0, random_movie_df.shape[0])\n",
        "    recommended_movies_df = recommended_movies_df.append(\n",
        "        random_movie_df.iloc[random_index])\n",
        "    n_random -= 1\n",
        "  return recommended_movies_df\n",
        "\n",
        "# include random movie from tmdb_below_100 to improve serendipity\n",
        "recommended_movies = add_random_movie(tmdb_below_100,\n",
        "                                      recommend_movies(tmdb_above_100,\n",
        "                                      \"Inception\", cos_matrix_final))\n"
      ]
    },
    {
      "cell_type": "markdown",
      "metadata": {
        "id": "rg8BwlVh1uUt"
      },
      "source": [
        "# End of work"
      ]
    }
  ],
  "metadata": {
    "colab": {
      "provenance": []
    },
    "kernelspec": {
      "display_name": "Python 3",
      "name": "python3"
    },
    "language_info": {
      "codemirror_mode": {
        "name": "ipython",
        "version": 3
      },
      "file_extension": ".py",
      "mimetype": "text/x-python",
      "name": "python",
      "nbconvert_exporter": "python",
      "pygments_lexer": "ipython3",
      "version": "3.11.8"
    },
    "vscode": {
      "interpreter": {
        "hash": "aee8b7b246df8f9039afb4144a1f6fd8d2ca17a180786b69acc140d282b71a49"
      }
    }
  },
  "nbformat": 4,
  "nbformat_minor": 0
}
