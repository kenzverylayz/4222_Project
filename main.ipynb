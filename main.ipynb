{
 "cells": [
  {
   "cell_type": "code",
   "execution_count": 1,
   "metadata": {},
   "outputs": [
    {
     "name": "stderr",
     "output_type": "stream",
     "text": [
      "/Users/kenzverylayz/Library/Python/3.9/lib/python/site-packages/urllib3/__init__.py:35: NotOpenSSLWarning: urllib3 v2 only supports OpenSSL 1.1.1+, currently the 'ssl' module is compiled with 'LibreSSL 2.8.3'. See: https://github.com/urllib3/urllib3/issues/3020\n",
      "  warnings.warn(\n",
      "/var/folders/pc/cw9rfzrs40s854nlyd3h7q_h0000gn/T/ipykernel_43340/1173005688.py:4: DeprecationWarning: \n",
      "Pyarrow will become a required dependency of pandas in the next major release of pandas (pandas 3.0),\n",
      "(to allow more performant data types, such as the Arrow string type, and better interoperability with other libraries)\n",
      "but was not found to be installed on your system.\n",
      "If this would cause problems for you,\n",
      "please provide us feedback at https://github.com/pandas-dev/pandas/issues/54466\n",
      "        \n",
      "  import pandas as pd\n"
     ]
    }
   ],
   "source": [
    "import os\n",
    "import json\n",
    "import gdown\n",
    "import pandas as pd\n",
    "import numpy as np\n",
    "### Plot\n",
    "import matplotlib.pyplot as plt\n",
    "import seaborn as sns\n",
    "### HTML\n",
    "from bs4 import BeautifulSoup\n",
    "import re\n",
    "### Warnings\n",
    "import warnings\n",
    "### Text Preprocessing and Natural Language Processing\n",
    "from nltk.corpus import stopwords\n",
    "from nltk.tokenize import word_tokenize\n",
    "from nltk import pos_tag\n",
    "from nltk.stem import WordNetLemmatizer\n",
    "import nltk\n",
    "import re\n",
    "import spacy\n",
    "from wordcloud import WordCloud"
   ]
  },
  {
   "cell_type": "code",
   "execution_count": 5,
   "metadata": {},
   "outputs": [
    {
     "name": "stdout",
     "output_type": "stream",
     "text": [
      "       id            title  vote_average  vote_count    status release_date  \\\n",
      "0   27205        Inception         8.364       34495  Released   2010-07-15   \n",
      "1  157336     Interstellar         8.417       32571  Released   2014-11-05   \n",
      "2     155  The Dark Knight         8.512       30619  Released   2008-07-16   \n",
      "3   19995           Avatar         7.573       29815  Released   2009-12-15   \n",
      "4   24428     The Avengers         7.710       29166  Released   2012-04-25   \n",
      "\n",
      "      revenue  runtime  adult                     backdrop_path  ...  \\\n",
      "0   825532764      148  False  /8ZTVqvKDQ8emSGUEMjsS4yHAwrp.jpg  ...   \n",
      "1   701729206      169  False  /pbrkL804c8yAv3zBZR4QPEafpAR.jpg  ...   \n",
      "2  1004558444      152  False  /nMKdUUepR0i5zn0y1T4CsSB5chy.jpg  ...   \n",
      "3  2923706026      162  False  /vL5LR6WdxWPjLPFRLe133jXWsh5.jpg  ...   \n",
      "4  1518815515      143  False  /9BBTo63ANSmhC4e6r62OJFuK2GL.jpg  ...   \n",
      "\n",
      "   original_language   original_title  \\\n",
      "0                 en        Inception   \n",
      "1                 en     Interstellar   \n",
      "2                 en  The Dark Knight   \n",
      "3                 en           Avatar   \n",
      "4                 en     The Avengers   \n",
      "\n",
      "                                            overview popularity  \\\n",
      "0  Cobb, a skilled thief who commits corporate es...     83.952   \n",
      "1  The adventures of a group of explorers who mak...    140.241   \n",
      "2  Batman raises the stakes in his war on crime. ...    130.643   \n",
      "3  In the 22nd century, a paraplegic Marine is di...     79.932   \n",
      "4  When an unexpected enemy emerges and threatens...     98.082   \n",
      "\n",
      "                        poster_path  \\\n",
      "0  /oYuLEt3zVCKq57qu2F8dT7NIa6f.jpg   \n",
      "1  /gEU2QniE6E77NI6lCU6MxlNBvIx.jpg   \n",
      "2  /qJ2tW6WMUDux911r6m7haRef0WH.jpg   \n",
      "3  /kyeqWdyUXW608qlYkRqosgbbJyK.jpg   \n",
      "4   /RYMX2wcKCBAr24UyPD7xwmjaTn.jpg   \n",
      "\n",
      "                                             tagline  \\\n",
      "0               Your mind is the scene of the crime.   \n",
      "1  Mankind was born on Earth. It was never meant ...   \n",
      "2                  Welcome to a world without rules.   \n",
      "3                        Enter the world of Pandora.   \n",
      "4                            Some assembly required.   \n",
      "\n",
      "                                        genres  \\\n",
      "0           Action, Science Fiction, Adventure   \n",
      "1            Adventure, Drama, Science Fiction   \n",
      "2               Drama, Action, Crime, Thriller   \n",
      "3  Action, Adventure, Fantasy, Science Fiction   \n",
      "4           Science Fiction, Action, Adventure   \n",
      "\n",
      "                                production_companies  \\\n",
      "0  Legendary Pictures, Syncopy, Warner Bros. Pict...   \n",
      "1  Legendary Pictures, Syncopy, Lynda Obst Produc...   \n",
      "2  DC Comics, Legendary Pictures, Syncopy, Isobel...   \n",
      "3  Dune Entertainment, Lightstorm Entertainment, ...   \n",
      "4                                     Marvel Studios   \n",
      "\n",
      "                       production_countries  \\\n",
      "0  United Kingdom, United States of America   \n",
      "1  United Kingdom, United States of America   \n",
      "2  United Kingdom, United States of America   \n",
      "3  United States of America, United Kingdom   \n",
      "4                  United States of America   \n",
      "\n",
      "                     spoken_languages  \n",
      "0  English, French, Japanese, Swahili  \n",
      "1                             English  \n",
      "2                   English, Mandarin  \n",
      "3                    English, Spanish  \n",
      "4             English, Hindi, Russian  \n",
      "\n",
      "[5 rows x 23 columns]\n"
     ]
    }
   ],
   "source": [
    "df_main = pd.read_csv('TMDB_movie_dataset_v11.csv')\n",
    "print(df.head())"
   ]
  },
  {
   "cell_type": "code",
   "execution_count": 11,
   "metadata": {},
   "outputs": [
    {
     "name": "stdout",
     "output_type": "stream",
     "text": [
      "   MovieID                               Title                        Genres\n",
      "0        1                    Toy Story (1995)   Animation|Children's|Comedy\n",
      "1        2                      Jumanji (1995)  Adventure|Children's|Fantasy\n",
      "2        3             Grumpier Old Men (1995)                Comedy|Romance\n",
      "3        4            Waiting to Exhale (1995)                  Comedy|Drama\n",
      "4        5  Father of the Bride Part II (1995)                        Comedy\n"
     ]
    }
   ],
   "source": [
    "df_movies = pd.read_csv('ml-1m/movies.csv', sep='::', engine='python', encoding='ISO-8859-1', header=None, names=['MovieID', 'Title', 'Genres'])\n",
    "print(df_movies.head())"
   ]
  },
  {
   "cell_type": "code",
   "execution_count": 13,
   "metadata": {},
   "outputs": [
    {
     "name": "stdout",
     "output_type": "stream",
     "text": [
      "   UserID  MovieID  Rating  Timestamp\n",
      "0       1     1193       5  978300760\n",
      "1       1      661       3  978302109\n",
      "2       1      914       3  978301968\n",
      "3       1     3408       4  978300275\n",
      "4       1     2355       5  978824291\n"
     ]
    }
   ],
   "source": [
    "df_ratings = pd.read_csv('ml-1m/ratings.csv', sep='::', engine='python', encoding='ISO-8859-1', header=None, names=['UserID', 'MovieID', 'Rating', 'Timestamp'])\n",
    "print(df_ratings.head())"
   ]
  },
  {
   "cell_type": "code",
   "execution_count": 14,
   "metadata": {},
   "outputs": [
    {
     "name": "stdout",
     "output_type": "stream",
     "text": [
      "   UserID Gender  Age  Occupation ZipCode\n",
      "0       1      F    1          10   48067\n",
      "1       2      M   56          16   70072\n",
      "2       3      M   25          15   55117\n",
      "3       4      M   45           7   02460\n",
      "4       5      M   25          20   55455\n"
     ]
    }
   ],
   "source": [
    "df_users = pd.read_csv('ml-1m/users.csv', sep='::', engine='python', encoding='ISO-8859-1', header=None, names=['UserID', 'Gender', 'Age', 'Occupation','ZipCode'])\n",
    "print(df_users.head())"
   ]
  }
 ],
 "metadata": {
  "kernelspec": {
   "display_name": "Python 3",
   "language": "python",
   "name": "python3"
  },
  "language_info": {
   "codemirror_mode": {
    "name": "ipython",
    "version": 3
   },
   "file_extension": ".py",
   "mimetype": "text/x-python",
   "name": "python",
   "nbconvert_exporter": "python",
   "pygments_lexer": "ipython3",
   "version": "3.9.6"
  }
 },
 "nbformat": 4,
 "nbformat_minor": 2
}
