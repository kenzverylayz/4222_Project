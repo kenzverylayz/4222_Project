{
 "cells": [
  {
   "cell_type": "markdown",
   "metadata": {},
   "source": [
    "Import Libraries"
   ]
  },
  {
   "cell_type": "code",
   "execution_count": 2,
   "metadata": {},
   "outputs": [],
   "source": [
    "import pandas as pd\n",
    "import numpy as np\n",
    "\n",
    "### Warnings\n",
    "import warnings\n",
    "\n",
    "### Text Preprocessing and Natural Language Processing\n",
    "from nltk.corpus import stopwords\n",
    "from nltk.tokenize import word_tokenize\n",
    "from nltk import pos_tag\n",
    "from nltk.stem import WordNetLemmatizer\n",
    "import nltk\n",
    "import re\n",
    "import spacy\n",
    "from wordcloud import WordCloud\n",
    "\n",
    "# For Fuzzy matching techniques\n",
    "from rapidfuzz import process\n",
    "\n",
    "# For parallel processing\n",
    "import multiprocessing\n",
    "from processing import find_best_match, process_batch"
   ]
  },
  {
   "cell_type": "markdown",
   "metadata": {},
   "source": [
    "Import TMDB Dataset"
   ]
  },
  {
   "cell_type": "code",
   "execution_count": 119,
   "metadata": {},
   "outputs": [],
   "source": [
    "pd.set_option('display.max_columns', None)\n",
    "\n",
    "# Load in TMDB dataset\n",
    "tmdb_df = pd.read_csv('TMDB_movie_dataset_v11.csv') \n",
    "\n",
    "# Drop Duplicates\n",
    "tmdb_df = tmdb_df.drop_duplicates()"
   ]
  },
  {
   "cell_type": "markdown",
   "metadata": {},
   "source": [
    "Creation of primary key in TMDB dataset (In order to join with the movielens dataset)"
   ]
  },
  {
   "cell_type": "code",
   "execution_count": 120,
   "metadata": {},
   "outputs": [],
   "source": [
    "# Cleaning up the release date column to coerce problematic values to NaT, and ensure dates are in proper format\n",
    "tmdb_df['release_date'] = pd.to_datetime(tmdb_df['release_date'], errors='coerce')\n",
    "\n",
    "# Creating new \"year\" (string) column and extracting year from the \"release_date\" field\n",
    "# Changed .replace('nan', '') to .replace('<NA>', '')\n",
    "tmdb_df['year'] = tmdb_df['release_date'].dt.year.astype('Int64').astype(str).replace('<NA>', '')\n",
    "\n",
    "# Clean up movie titles to remove leading and trailing whitespace if any\n",
    "tmdb_df['title'] = tmdb_df['title'].str.strip()\n",
    "\n",
    "# Create a new column called title_year, combining title and year. If year is available, then create a new field combining title and year\n",
    "tmdb_df['title_year'] = tmdb_df.apply(lambda x: f\"{x['title']} ({x['year']})\" if x['year'] else x['title'], axis=1)"
   ]
  },
  {
   "cell_type": "markdown",
   "metadata": {},
   "source": [
    "Import MovieLens Datasets"
   ]
  },
  {
   "cell_type": "code",
   "execution_count": 121,
   "metadata": {},
   "outputs": [],
   "source": [
    "# Load MovieLens Movies dataset\n",
    "df_movies = pd.read_csv('ml-1m/movies.csv', sep='::', engine='python', \n",
    "                        encoding='ISO-8859-1', header=None, names=['MovieID', 'Title', 'Genres'])\n",
    "\n",
    "# Clean up movie titles to remove leading and trailing whitespace\n",
    "df_movies['Title'] = df_movies['Title'].str.strip()\n",
    "\n",
    "# Load MovieLens Ratings dataset\n",
    "df_ratings = pd.read_csv('ml-1m/ratings.csv', sep='::', engine='python', \n",
    "                         encoding='ISO-8859-1', header=None, names=['UserID', 'MovieID', 'Rating', 'Timestamp'])\n",
    "\n",
    "# Load MovieLens Users dataset\n",
    "df_users = pd.read_csv('ml-1m/users.csv', sep='::', engine='python', \n",
    "                       encoding='ISO-8859-1', header=None, names=['UserID', 'Gender', 'Age', 'Occupation','ZipCode'])"
   ]
  },
  {
   "cell_type": "code",
   "execution_count": 122,
   "metadata": {},
   "outputs": [],
   "source": [
    "# Merge MovieLens Dataset into one dataframe (from three)\n",
    "df_ml_combined = pd.merge(pd.merge(df_ratings, df_movies, on='MovieID'), df_users, on='UserID')"
   ]
  },
  {
   "cell_type": "markdown",
   "metadata": {},
   "source": [
    "Truncate TMDB Dataset to show movies in Year 2000 and before only"
   ]
  },
  {
   "cell_type": "code",
   "execution_count": 123,
   "metadata": {},
   "outputs": [],
   "source": [
    "# Filter out TMDB dataset for movies released in year 2000 and before\n",
    "truncated_tmdb_df = tmdb_df[tmdb_df['release_date'].dt.year.astype('Int64') <= 2000]"
   ]
  },
  {
   "cell_type": "markdown",
   "metadata": {},
   "source": [
    "Handle duplicates in the TMDB dateset involving the key 'title_year'"
   ]
  },
  {
   "cell_type": "code",
   "execution_count": 124,
   "metadata": {},
   "outputs": [],
   "source": [
    "# Extract out rows from TMDB dataset with duplicate keys as they are non-unique\n",
    "duplicates_tmdb = truncated_tmdb_df[truncated_tmdb_df['title_year'].duplicated(keep=False)]\n",
    "\n",
    "# Get unique title-year keys from duplicates\n",
    "unique_duplicated_title_years = duplicates_tmdb['title_year'].unique()\n",
    "\n",
    "# Filter Combined MovieLens dataset to exclude rows with the duplicated keys from the analysis\n",
    "filtered_df_ml_combined = df_ml_combined[~df_ml_combined['Title'].isin(unique_duplicated_title_years)]"
   ]
  },
  {
   "cell_type": "markdown",
   "metadata": {},
   "source": [
    "Fixing Articles which appear at the end of movie titles in the filtered_df_ml_combined dataset"
   ]
  },
  {
   "cell_type": "code",
   "execution_count": 126,
   "metadata": {},
   "outputs": [],
   "source": [
    "def format_title(title):\n",
    "    # Split the title into words\n",
    "    words = title.split()\n",
    "\n",
    "    # Check if the last word is \"A\", \"An\", or \"The\"\n",
    "    if len(words) >= 3 and words[-2].lower() in ['a', 'an', 'the'] and words[-3][-1] == \",\":\n",
    "        # Move the article to the beginning of the title\n",
    "        formatted_title = f\"{words[-2]} {' '.join(words[:-3])} {words[-3][:-1]} {words[-1]}\"\n",
    "    else:\n",
    "        # Keep the title unchanged\n",
    "        formatted_title = title\n",
    "\n",
    "    return formatted_title"
   ]
  },
  {
   "cell_type": "code",
   "execution_count": 127,
   "metadata": {},
   "outputs": [],
   "source": [
    "# Adjusting Movie Titles in correct sequence in the movielens dataset\n",
    "filtered_df_ml_combined[\"Title\"] = filtered_df_ml_combined[\"Title\"].apply(format_title)"
   ]
  },
  {
   "cell_type": "markdown",
   "metadata": {},
   "source": [
    "Combining both MovieLens and TMDB datasets (First iteration)"
   ]
  },
  {
   "cell_type": "code",
   "execution_count": 129,
   "metadata": {},
   "outputs": [],
   "source": [
    "# Merge the 2 datasets using left-join (This will fix the `article` problem also) \n",
    "merged_df = pd.merge(filtered_df_ml_combined, truncated_tmdb_df, left_on='Title', right_on='title_year', how='left') "
   ]
  },
  {
   "cell_type": "markdown",
   "metadata": {},
   "source": [
    "Fixing discrepancies in movie release year"
   ]
  },
  {
   "cell_type": "code",
   "execution_count": 128,
   "metadata": {},
   "outputs": [],
   "source": [
    "# Create new `Movie_Title` column and removing the year from the `Title` column\n",
    "filtered_df_ml_combined[\"Movie_Title\"] = filtered_df_ml_combined[\"Title\"].str[:-7].str.strip()\n",
    "\n",
    "# Create new `Movie_Year` column\n",
    "filtered_df_ml_combined[\"Movie_Year\"] = filtered_df_ml_combined[\"Title\"].str[-5:-1].str.strip().astype(int)"
   ]
  },
  {
   "cell_type": "code",
   "execution_count": 181,
   "metadata": {},
   "outputs": [],
   "source": [
    "# Extracting unsucessful merges and put in same format as filtered_df_ml_combined\n",
    "unsuccessful_merge = merged_df[merged_df['title_year'].isnull()].iloc[:,:12]\n",
    "\n",
    "#Retain original index\n",
    "unsuccessful_merge[\"original_index\"] = unsuccessful_merge.index"
   ]
  },
  {
   "cell_type": "markdown",
   "metadata": {},
   "source": [
    "Combining both MovieLens and TMDB datasets (Second iteration) --> Fix Movie Release Year error in MovieLens dataset"
   ]
  },
  {
   "cell_type": "code",
   "execution_count": 191,
   "metadata": {},
   "outputs": [],
   "source": [
    "# Merge the 2 datasets using left-join (second iteration) using movie-titles as keys \n",
    "temp_merged_df = pd.merge(unsuccessful_merge, truncated_tmdb_df, left_on='Movie_Title', right_on='title', how='left') \n",
    "\n",
    "# Only keep those successful merges\n",
    "temp_merged_df = temp_merged_df[temp_merged_df[\"title\"].notnull()]\n",
    "\n",
    "# Convert year to integer for comparison\n",
    "temp_merged_df[\"year\"] = temp_merged_df[\"year\"].astype(int)\n",
    "\n",
    "# Create a new column and check if the movie years have a maximum absolute 1 year difference (To handle computational errors in the movielens dataset)\n",
    "temp_merged_df['one_year_difference'] = abs(temp_merged_df['Movie_Year'] - temp_merged_df['year']) <= 1\n",
    "\n",
    "# Only keep those rows where 1 year difference is TRUE\n",
    "temp_merged_df = temp_merged_df[temp_merged_df['one_year_difference'] == True]\n",
    "\n",
    "# Drop the 1 year difference column now\n",
    "temp_merged_df.drop(columns=[\"one_year_difference\"], inplace=True)\n",
    "\n",
    "# Update Indexes to correspond to original merged_df\n",
    "temp_merged_df.set_index(\"original_index\", inplace= True)"
   ]
  },
  {
   "cell_type": "code",
   "execution_count": 199,
   "metadata": {},
   "outputs": [],
   "source": [
    "# Update merged_df\n",
    "merged_df = merged_df.combine_first(temp_merged_df)"
   ]
  },
  {
   "cell_type": "markdown",
   "metadata": {},
   "source": [
    "Fuzzy Matching Techniques for string matching (Non Exact Match)  --> Third Iteration"
   ]
  },
  {
   "cell_type": "code",
   "execution_count": 210,
   "metadata": {},
   "outputs": [],
   "source": [
    "# Filter out rows where the merge was unsuccessful, and put in same format as filtered_df_ml_combined\n",
    "unmerged_v2 = merged_df[merged_df['title_year'].isnull()].iloc[:, :12]\n",
    "\n",
    "# Keep original index from merged_df\n",
    "unmerged_v2[\"original_index\"] = unmerged_v2.index"
   ]
  },
  {
   "cell_type": "code",
   "execution_count": 209,
   "metadata": {},
   "outputs": [
    {
     "data": {
      "text/html": [
       "<div>\n",
       "<style scoped>\n",
       "    .dataframe tbody tr th:only-of-type {\n",
       "        vertical-align: middle;\n",
       "    }\n",
       "\n",
       "    .dataframe tbody tr th {\n",
       "        vertical-align: top;\n",
       "    }\n",
       "\n",
       "    .dataframe thead th {\n",
       "        text-align: right;\n",
       "    }\n",
       "</style>\n",
       "<table border=\"1\" class=\"dataframe\">\n",
       "  <thead>\n",
       "    <tr style=\"text-align: right;\">\n",
       "      <th></th>\n",
       "      <th>UserID</th>\n",
       "      <th>MovieID</th>\n",
       "      <th>Rating</th>\n",
       "      <th>Timestamp</th>\n",
       "      <th>Title</th>\n",
       "      <th>Genres</th>\n",
       "      <th>Gender</th>\n",
       "      <th>Age</th>\n",
       "      <th>Occupation</th>\n",
       "      <th>ZipCode</th>\n",
       "      <th>Movie_Title</th>\n",
       "      <th>Movie_Year</th>\n",
       "      <th>original_index</th>\n",
       "    </tr>\n",
       "  </thead>\n",
       "  <tbody>\n",
       "    <tr>\n",
       "      <th>43</th>\n",
       "      <td>1</td>\n",
       "      <td>2692</td>\n",
       "      <td>4</td>\n",
       "      <td>978301570</td>\n",
       "      <td>Run Lola Run (Lola rennt) (1998)</td>\n",
       "      <td>Action|Crime|Romance</td>\n",
       "      <td>F</td>\n",
       "      <td>1</td>\n",
       "      <td>10</td>\n",
       "      <td>48067</td>\n",
       "      <td>Run Lola Run (Lola rennt)</td>\n",
       "      <td>1998</td>\n",
       "      <td>43</td>\n",
       "    </tr>\n",
       "    <tr>\n",
       "      <th>44</th>\n",
       "      <td>1</td>\n",
       "      <td>260</td>\n",
       "      <td>4</td>\n",
       "      <td>978300760</td>\n",
       "      <td>Star Wars: Episode IV - A New Hope (1977)</td>\n",
       "      <td>Action|Adventure|Fantasy|Sci-Fi</td>\n",
       "      <td>F</td>\n",
       "      <td>1</td>\n",
       "      <td>10</td>\n",
       "      <td>48067</td>\n",
       "      <td>Star Wars: Episode IV - A New Hope</td>\n",
       "      <td>1977</td>\n",
       "      <td>44</td>\n",
       "    </tr>\n",
       "    <tr>\n",
       "      <th>54</th>\n",
       "      <td>2</td>\n",
       "      <td>3068</td>\n",
       "      <td>4</td>\n",
       "      <td>978299000</td>\n",
       "      <td>The  Verdict (1982)</td>\n",
       "      <td>Drama</td>\n",
       "      <td>M</td>\n",
       "      <td>56</td>\n",
       "      <td>16</td>\n",
       "      <td>70072</td>\n",
       "      <td>The  Verdict</td>\n",
       "      <td>1982</td>\n",
       "      <td>54</td>\n",
       "    </tr>\n",
       "    <tr>\n",
       "      <th>55</th>\n",
       "      <td>2</td>\n",
       "      <td>1537</td>\n",
       "      <td>4</td>\n",
       "      <td>978299620</td>\n",
       "      <td>Shall We Dance? (Shall We Dansu?) (1996)</td>\n",
       "      <td>Comedy</td>\n",
       "      <td>M</td>\n",
       "      <td>56</td>\n",
       "      <td>16</td>\n",
       "      <td>70072</td>\n",
       "      <td>Shall We Dance? (Shall We Dansu?)</td>\n",
       "      <td>1996</td>\n",
       "      <td>55</td>\n",
       "    </tr>\n",
       "    <tr>\n",
       "      <th>57</th>\n",
       "      <td>2</td>\n",
       "      <td>2194</td>\n",
       "      <td>4</td>\n",
       "      <td>978299297</td>\n",
       "      <td>The  Untouchables (1987)</td>\n",
       "      <td>Action|Crime|Drama</td>\n",
       "      <td>M</td>\n",
       "      <td>56</td>\n",
       "      <td>16</td>\n",
       "      <td>70072</td>\n",
       "      <td>The  Untouchables</td>\n",
       "      <td>1987</td>\n",
       "      <td>57</td>\n",
       "    </tr>\n",
       "    <tr>\n",
       "      <th>...</th>\n",
       "      <td>...</td>\n",
       "      <td>...</td>\n",
       "      <td>...</td>\n",
       "      <td>...</td>\n",
       "      <td>...</td>\n",
       "      <td>...</td>\n",
       "      <td>...</td>\n",
       "      <td>...</td>\n",
       "      <td>...</td>\n",
       "      <td>...</td>\n",
       "      <td>...</td>\n",
       "      <td>...</td>\n",
       "      <td>...</td>\n",
       "    </tr>\n",
       "    <tr>\n",
       "      <th>994407</th>\n",
       "      <td>6040</td>\n",
       "      <td>3703</td>\n",
       "      <td>4</td>\n",
       "      <td>964828575</td>\n",
       "      <td>Mad Max 2 (a.k.a. The Road Warrior) (1981)</td>\n",
       "      <td>Action|Sci-Fi</td>\n",
       "      <td>M</td>\n",
       "      <td>25</td>\n",
       "      <td>6</td>\n",
       "      <td>11106</td>\n",
       "      <td>Mad Max 2 (a.k.a. The Road Warrior)</td>\n",
       "      <td>1981</td>\n",
       "      <td>994407</td>\n",
       "    </tr>\n",
       "    <tr>\n",
       "      <th>994414</th>\n",
       "      <td>6040</td>\n",
       "      <td>2794</td>\n",
       "      <td>1</td>\n",
       "      <td>956716438</td>\n",
       "      <td>European Vacation (1985)</td>\n",
       "      <td>Comedy</td>\n",
       "      <td>M</td>\n",
       "      <td>25</td>\n",
       "      <td>6</td>\n",
       "      <td>11106</td>\n",
       "      <td>European Vacation</td>\n",
       "      <td>1985</td>\n",
       "      <td>994414</td>\n",
       "    </tr>\n",
       "    <tr>\n",
       "      <th>994421</th>\n",
       "      <td>6040</td>\n",
       "      <td>2019</td>\n",
       "      <td>5</td>\n",
       "      <td>956703977</td>\n",
       "      <td>Seven Samurai (The Magnificent Seven) (Shichin...</td>\n",
       "      <td>Action|Drama</td>\n",
       "      <td>M</td>\n",
       "      <td>25</td>\n",
       "      <td>6</td>\n",
       "      <td>11106</td>\n",
       "      <td>Seven Samurai (The Magnificent Seven) (Shichin...</td>\n",
       "      <td>1954</td>\n",
       "      <td>994421</td>\n",
       "    </tr>\n",
       "    <tr>\n",
       "      <th>994425</th>\n",
       "      <td>6040</td>\n",
       "      <td>549</td>\n",
       "      <td>4</td>\n",
       "      <td>956704746</td>\n",
       "      <td>Thirty-Two Short Films About Glenn Gould (1993)</td>\n",
       "      <td>Documentary</td>\n",
       "      <td>M</td>\n",
       "      <td>25</td>\n",
       "      <td>6</td>\n",
       "      <td>11106</td>\n",
       "      <td>Thirty-Two Short Films About Glenn Gould</td>\n",
       "      <td>1993</td>\n",
       "      <td>994425</td>\n",
       "    </tr>\n",
       "    <tr>\n",
       "      <th>994430</th>\n",
       "      <td>6040</td>\n",
       "      <td>1080</td>\n",
       "      <td>4</td>\n",
       "      <td>957717322</td>\n",
       "      <td>Monty Python's Life of Brian (1979)</td>\n",
       "      <td>Comedy</td>\n",
       "      <td>M</td>\n",
       "      <td>25</td>\n",
       "      <td>6</td>\n",
       "      <td>11106</td>\n",
       "      <td>Monty Python's Life of Brian</td>\n",
       "      <td>1979</td>\n",
       "      <td>994430</td>\n",
       "    </tr>\n",
       "  </tbody>\n",
       "</table>\n",
       "<p>142979 rows × 13 columns</p>\n",
       "</div>"
      ],
      "text/plain": [
       "        UserID  MovieID  Rating  Timestamp  \\\n",
       "43           1     2692       4  978301570   \n",
       "44           1      260       4  978300760   \n",
       "54           2     3068       4  978299000   \n",
       "55           2     1537       4  978299620   \n",
       "57           2     2194       4  978299297   \n",
       "...        ...      ...     ...        ...   \n",
       "994407    6040     3703       4  964828575   \n",
       "994414    6040     2794       1  956716438   \n",
       "994421    6040     2019       5  956703977   \n",
       "994425    6040      549       4  956704746   \n",
       "994430    6040     1080       4  957717322   \n",
       "\n",
       "                                                    Title  \\\n",
       "43                       Run Lola Run (Lola rennt) (1998)   \n",
       "44              Star Wars: Episode IV - A New Hope (1977)   \n",
       "54                                    The  Verdict (1982)   \n",
       "55               Shall We Dance? (Shall We Dansu?) (1996)   \n",
       "57                               The  Untouchables (1987)   \n",
       "...                                                   ...   \n",
       "994407         Mad Max 2 (a.k.a. The Road Warrior) (1981)   \n",
       "994414                           European Vacation (1985)   \n",
       "994421  Seven Samurai (The Magnificent Seven) (Shichin...   \n",
       "994425    Thirty-Two Short Films About Glenn Gould (1993)   \n",
       "994430                Monty Python's Life of Brian (1979)   \n",
       "\n",
       "                                 Genres Gender  Age  Occupation ZipCode  \\\n",
       "43                 Action|Crime|Romance      F    1          10   48067   \n",
       "44      Action|Adventure|Fantasy|Sci-Fi      F    1          10   48067   \n",
       "54                                Drama      M   56          16   70072   \n",
       "55                               Comedy      M   56          16   70072   \n",
       "57                   Action|Crime|Drama      M   56          16   70072   \n",
       "...                                 ...    ...  ...         ...     ...   \n",
       "994407                    Action|Sci-Fi      M   25           6   11106   \n",
       "994414                           Comedy      M   25           6   11106   \n",
       "994421                     Action|Drama      M   25           6   11106   \n",
       "994425                      Documentary      M   25           6   11106   \n",
       "994430                           Comedy      M   25           6   11106   \n",
       "\n",
       "                                              Movie_Title  Movie_Year  \\\n",
       "43                              Run Lola Run (Lola rennt)        1998   \n",
       "44                     Star Wars: Episode IV - A New Hope        1977   \n",
       "54                                           The  Verdict        1982   \n",
       "55                      Shall We Dance? (Shall We Dansu?)        1996   \n",
       "57                                      The  Untouchables        1987   \n",
       "...                                                   ...         ...   \n",
       "994407                Mad Max 2 (a.k.a. The Road Warrior)        1981   \n",
       "994414                                  European Vacation        1985   \n",
       "994421  Seven Samurai (The Magnificent Seven) (Shichin...        1954   \n",
       "994425           Thirty-Two Short Films About Glenn Gould        1993   \n",
       "994430                       Monty Python's Life of Brian        1979   \n",
       "\n",
       "        original_index  \n",
       "43                  43  \n",
       "44                  44  \n",
       "54                  54  \n",
       "55                  55  \n",
       "57                  57  \n",
       "...                ...  \n",
       "994407          994407  \n",
       "994414          994414  \n",
       "994421          994421  \n",
       "994425          994425  \n",
       "994430          994430  \n",
       "\n",
       "[142979 rows x 13 columns]"
      ]
     },
     "execution_count": 209,
     "metadata": {},
     "output_type": "execute_result"
    }
   ],
   "source": [
    "unmerged_v2"
   ]
  },
  {
   "cell_type": "code",
   "execution_count": null,
   "metadata": {},
   "outputs": [],
   "source": [
    "# Function to perform similarity checking on a batch of data\n",
    "def process_batch_parallel(batch, target_string):\n",
    "    return [process.extractOne(target_string, [string])[1] for string in batch]"
   ]
  },
  {
   "cell_type": "code",
   "execution_count": null,
   "metadata": {},
   "outputs": [],
   "source": [
    "from rapidfuzz import process\n",
    "\n",
    "# Define a function to find the best match in the TMDB dataset for each title in MovieLens dataset\n",
    "def find_best_match(title, choices):\n",
    "    return process.extractOne(title, choices, score_cutoff=75)[0]\n",
    "\n",
    "# Processing Function\n",
    "def process_batch(batch):\n",
    "    # Initialize empty list to store index of each row and its correspinding best match\n",
    "    batch_matches = []\n",
    "    \n",
    "    for index, row in batch[0].iterrows():\n",
    "        query_title = row['Title']\n",
    "        # For unsuccessful row, find best match to title in TMDB dataset and change title to that. Use 75% Similarity Score threshold.\n",
    "        best_match = find_best_match(query_title, batch[1])\n",
    "        batch_matches.append((index, best_match))\n",
    "        \n",
    "    return batch_matches"
   ]
  },
  {
   "cell_type": "code",
   "execution_count": 16,
   "metadata": {},
   "outputs": [],
   "source": [
    "# Parallel Function\n",
    "def parallel_match(rows_to_match, trun_unique_tmdb_title_years):\n",
    "    # Perform parallel processing on batches\n",
    "    batch_results = pool.map(process_batch, [(batch, trun_unique_tmdb_title_years) for batch in batches])\n",
    "\n",
    "    # Update 'Title' column in the MovieLens dataset with the best matches\n",
    "    for batch_matches in batch_results:\n",
    "        for index, best_match in batch_matches:\n",
    "            filtered_df_ml_combined.at[index, 'Title'] = best_match\n",
    "            \n",
    "            \n",
    "if __name__ == \"__main__\":\n",
    "    batch_size = 1000\n",
    "    batches = [unmerged_v2[i:i+batch_size] for i in range(0, len(data), batch_size)]\n",
    "    \n",
    "    # Get unique title_years from TMDB dataset for matching\n",
    "    trun_unique_tmdb_title_years = truncated_tmdb_df['title_year'].unique()\n",
    "\n",
    "    # Extract out rows which are unsuccessful in merging\n",
    "    rows_to_match = merged_df[merged_df['title_year'].isnull()].iloc[0:100,:]\n",
    "    \n",
    "    parallel_match(rows_to_match, trun_unique_tmdb_title_years)"
   ]
  },
  {
   "cell_type": "code",
   "execution_count": 220,
   "metadata": {},
   "outputs": [
    {
     "data": {
      "text/plain": [
       "array(['Fight Club (1999)', 'Pulp Fiction (1994)', 'Forrest Gump (1994)',\n",
       "       ..., 'Dead Kennedys: Live in Vienna (1982)',\n",
       "       'Fuck You, Purdue (1987)', 'These Are the Rules (1983)'],\n",
       "      dtype=object)"
      ]
     },
     "execution_count": 220,
     "metadata": {},
     "output_type": "execute_result"
    }
   ],
   "source": [
    "truncated_tmdb_df['title_year'].unique()"
   ]
  },
  {
   "cell_type": "code",
   "execution_count": null,
   "metadata": {},
   "outputs": [],
   "source": []
  }
 ],
 "metadata": {
  "kernelspec": {
   "display_name": "Python 3",
   "language": "python",
   "name": "python3"
  },
  "language_info": {
   "codemirror_mode": {
    "name": "ipython",
    "version": 3
   },
   "file_extension": ".py",
   "mimetype": "text/x-python",
   "name": "python",
   "nbconvert_exporter": "python",
   "pygments_lexer": "ipython3",
   "version": "3.9.18"
  }
 },
 "nbformat": 4,
 "nbformat_minor": 2
}
